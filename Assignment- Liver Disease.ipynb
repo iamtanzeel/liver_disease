{
 "cells": [
  {
   "cell_type": "code",
   "execution_count": 1,
   "id": "146df354",
   "metadata": {},
   "outputs": [],
   "source": [
    "import numpy as np\n",
    "import pandas as pd\n",
    "\n",
    "import matplotlib.pyplot as plt\n",
    "import seaborn as sns\n",
    "\n",
    "from sklearn.model_selection import train_test_split\n",
    "from sklearn.preprocessing import OneHotEncoder\n",
    "\n",
    "from sklearn.preprocessing import RobustScaler, StandardScaler, MinMaxScaler\n",
    "from sklearn.model_selection import train_test_split, StratifiedShuffleSplit\n",
    "\n",
    "from sklearn.ensemble import RandomForestClassifier\n",
    "\n",
    "from sklearn.metrics import confusion_matrix, accuracy_score, classification_report,recall_score,f1_score,precision_score"
   ]
  },
  {
   "cell_type": "markdown",
   "id": "6504dd60",
   "metadata": {},
   "source": [
    "### Run the data through different Models and record their metrics in the following table."
   ]
  },
  {
   "cell_type": "code",
   "execution_count": 2,
   "id": "7aeab184",
   "metadata": {},
   "outputs": [
    {
     "data": {
      "text/html": [
       "<div>\n",
       "<style scoped>\n",
       "    .dataframe tbody tr th:only-of-type {\n",
       "        vertical-align: middle;\n",
       "    }\n",
       "\n",
       "    .dataframe tbody tr th {\n",
       "        vertical-align: top;\n",
       "    }\n",
       "\n",
       "    .dataframe thead th {\n",
       "        text-align: right;\n",
       "    }\n",
       "</style>\n",
       "<table border=\"1\" class=\"dataframe\">\n",
       "  <thead>\n",
       "    <tr style=\"text-align: right;\">\n",
       "      <th></th>\n",
       "      <th>DT_Entropy</th>\n",
       "      <th>DT_Gini</th>\n",
       "      <th>KNN</th>\n",
       "      <th>SVM</th>\n",
       "    </tr>\n",
       "  </thead>\n",
       "  <tbody>\n",
       "    <tr>\n",
       "      <th>Accuracy</th>\n",
       "      <td>NaN</td>\n",
       "      <td>NaN</td>\n",
       "      <td>NaN</td>\n",
       "      <td>NaN</td>\n",
       "    </tr>\n",
       "    <tr>\n",
       "      <th>Recall</th>\n",
       "      <td>NaN</td>\n",
       "      <td>NaN</td>\n",
       "      <td>NaN</td>\n",
       "      <td>NaN</td>\n",
       "    </tr>\n",
       "    <tr>\n",
       "      <th>Precision</th>\n",
       "      <td>NaN</td>\n",
       "      <td>NaN</td>\n",
       "      <td>NaN</td>\n",
       "      <td>NaN</td>\n",
       "    </tr>\n",
       "    <tr>\n",
       "      <th>F1_score</th>\n",
       "      <td>NaN</td>\n",
       "      <td>NaN</td>\n",
       "      <td>NaN</td>\n",
       "      <td>NaN</td>\n",
       "    </tr>\n",
       "  </tbody>\n",
       "</table>\n",
       "</div>"
      ],
      "text/plain": [
       "          DT_Entropy DT_Gini  KNN  SVM\n",
       "Accuracy         NaN     NaN  NaN  NaN\n",
       "Recall           NaN     NaN  NaN  NaN\n",
       "Precision        NaN     NaN  NaN  NaN\n",
       "F1_score         NaN     NaN  NaN  NaN"
      ]
     },
     "execution_count": 2,
     "metadata": {},
     "output_type": "execute_result"
    }
   ],
   "source": [
    "classifier = ['DT_Entropy','DT_Gini','KNN','SVM']\n",
    "metrics = ['Accuracy','Recall','Precision','F1_score']\n",
    "table = pd.DataFrame(index=metrics,columns=classifier)\n",
    "table"
   ]
  },
  {
   "cell_type": "code",
   "execution_count": 3,
   "id": "294b38a6",
   "metadata": {},
   "outputs": [],
   "source": [
    "df = pd.read_csv('indian_liver_patient.csv')"
   ]
  },
  {
   "cell_type": "code",
   "execution_count": 4,
   "id": "e2adc2e5",
   "metadata": {},
   "outputs": [
    {
     "data": {
      "text/html": [
       "<div>\n",
       "<style scoped>\n",
       "    .dataframe tbody tr th:only-of-type {\n",
       "        vertical-align: middle;\n",
       "    }\n",
       "\n",
       "    .dataframe tbody tr th {\n",
       "        vertical-align: top;\n",
       "    }\n",
       "\n",
       "    .dataframe thead th {\n",
       "        text-align: right;\n",
       "    }\n",
       "</style>\n",
       "<table border=\"1\" class=\"dataframe\">\n",
       "  <thead>\n",
       "    <tr style=\"text-align: right;\">\n",
       "      <th></th>\n",
       "      <th>Age</th>\n",
       "      <th>Gender</th>\n",
       "      <th>Total_Bilirubin</th>\n",
       "      <th>Direct_Bilirubin</th>\n",
       "      <th>Alkaline_Phosphotase</th>\n",
       "      <th>Alamine_Aminotransferase</th>\n",
       "      <th>Aspartate_Aminotransferase</th>\n",
       "      <th>Total_Protiens</th>\n",
       "      <th>Albumin</th>\n",
       "      <th>Albumin_and_Globulin_Ratio</th>\n",
       "      <th>Dataset</th>\n",
       "    </tr>\n",
       "  </thead>\n",
       "  <tbody>\n",
       "    <tr>\n",
       "      <th>0</th>\n",
       "      <td>65</td>\n",
       "      <td>Female</td>\n",
       "      <td>0.7</td>\n",
       "      <td>0.1</td>\n",
       "      <td>187</td>\n",
       "      <td>16</td>\n",
       "      <td>18</td>\n",
       "      <td>6.8</td>\n",
       "      <td>3.3</td>\n",
       "      <td>0.90</td>\n",
       "      <td>1</td>\n",
       "    </tr>\n",
       "    <tr>\n",
       "      <th>1</th>\n",
       "      <td>62</td>\n",
       "      <td>Male</td>\n",
       "      <td>10.9</td>\n",
       "      <td>5.5</td>\n",
       "      <td>699</td>\n",
       "      <td>64</td>\n",
       "      <td>100</td>\n",
       "      <td>7.5</td>\n",
       "      <td>3.2</td>\n",
       "      <td>0.74</td>\n",
       "      <td>1</td>\n",
       "    </tr>\n",
       "    <tr>\n",
       "      <th>2</th>\n",
       "      <td>62</td>\n",
       "      <td>Male</td>\n",
       "      <td>7.3</td>\n",
       "      <td>4.1</td>\n",
       "      <td>490</td>\n",
       "      <td>60</td>\n",
       "      <td>68</td>\n",
       "      <td>7.0</td>\n",
       "      <td>3.3</td>\n",
       "      <td>0.89</td>\n",
       "      <td>1</td>\n",
       "    </tr>\n",
       "    <tr>\n",
       "      <th>3</th>\n",
       "      <td>58</td>\n",
       "      <td>Male</td>\n",
       "      <td>1.0</td>\n",
       "      <td>0.4</td>\n",
       "      <td>182</td>\n",
       "      <td>14</td>\n",
       "      <td>20</td>\n",
       "      <td>6.8</td>\n",
       "      <td>3.4</td>\n",
       "      <td>1.00</td>\n",
       "      <td>1</td>\n",
       "    </tr>\n",
       "    <tr>\n",
       "      <th>4</th>\n",
       "      <td>72</td>\n",
       "      <td>Male</td>\n",
       "      <td>3.9</td>\n",
       "      <td>2.0</td>\n",
       "      <td>195</td>\n",
       "      <td>27</td>\n",
       "      <td>59</td>\n",
       "      <td>7.3</td>\n",
       "      <td>2.4</td>\n",
       "      <td>0.40</td>\n",
       "      <td>1</td>\n",
       "    </tr>\n",
       "  </tbody>\n",
       "</table>\n",
       "</div>"
      ],
      "text/plain": [
       "   Age  Gender  Total_Bilirubin  Direct_Bilirubin  Alkaline_Phosphotase  \\\n",
       "0   65  Female              0.7               0.1                   187   \n",
       "1   62    Male             10.9               5.5                   699   \n",
       "2   62    Male              7.3               4.1                   490   \n",
       "3   58    Male              1.0               0.4                   182   \n",
       "4   72    Male              3.9               2.0                   195   \n",
       "\n",
       "   Alamine_Aminotransferase  Aspartate_Aminotransferase  Total_Protiens  \\\n",
       "0                        16                          18             6.8   \n",
       "1                        64                         100             7.5   \n",
       "2                        60                          68             7.0   \n",
       "3                        14                          20             6.8   \n",
       "4                        27                          59             7.3   \n",
       "\n",
       "   Albumin  Albumin_and_Globulin_Ratio  Dataset  \n",
       "0      3.3                        0.90        1  \n",
       "1      3.2                        0.74        1  \n",
       "2      3.3                        0.89        1  \n",
       "3      3.4                        1.00        1  \n",
       "4      2.4                        0.40        1  "
      ]
     },
     "execution_count": 4,
     "metadata": {},
     "output_type": "execute_result"
    }
   ],
   "source": [
    "df.head()"
   ]
  },
  {
   "cell_type": "code",
   "execution_count": 5,
   "id": "5a52fa9e",
   "metadata": {},
   "outputs": [
    {
     "data": {
      "text/plain": [
       "Index(['Age', 'Gender', 'Total_Bilirubin', 'Direct_Bilirubin',\n",
       "       'Alkaline_Phosphotase', 'Alamine_Aminotransferase',\n",
       "       'Aspartate_Aminotransferase', 'Total_Protiens', 'Albumin',\n",
       "       'Albumin_and_Globulin_Ratio', 'Dataset'],\n",
       "      dtype='object')"
      ]
     },
     "execution_count": 5,
     "metadata": {},
     "output_type": "execute_result"
    }
   ],
   "source": [
    "df.columns"
   ]
  },
  {
   "cell_type": "code",
   "execution_count": 6,
   "id": "b9ecfb9f",
   "metadata": {},
   "outputs": [
    {
     "data": {
      "text/plain": [
       "1    416\n",
       "2    167\n",
       "Name: Dataset, dtype: int64"
      ]
     },
     "execution_count": 6,
     "metadata": {},
     "output_type": "execute_result"
    }
   ],
   "source": [
    "df['Dataset'].value_counts()"
   ]
  },
  {
   "cell_type": "markdown",
   "id": "df2520f2",
   "metadata": {},
   "source": [
    "\n",
    "Dataset: field used to split the data into two sets (patient with liver disease, or no disease)\n",
    "\n",
    "416 liver patient records and 167 non liver patient\n",
    "\n",
    "1: liver patient\n",
    "\n",
    "2: Non-liver patient"
   ]
  },
  {
   "cell_type": "code",
   "execution_count": 7,
   "id": "85e6598a",
   "metadata": {},
   "outputs": [
    {
     "name": "stdout",
     "output_type": "stream",
     "text": [
      "1  : Liver Disease, 416  patients.\n",
      "2  : No Liver Disease, 167  patients.\n"
     ]
    }
   ],
   "source": [
    "for i in np.arange(1,3):\n",
    "    if i==1:\n",
    "        print(i,' : Liver Disease,',df['Dataset'].value_counts()[i],' patients.')\n",
    "    if i==2:\n",
    "        print(i,' : No Liver Disease,',df['Dataset'].value_counts()[i],' patients.')\n",
    "    "
   ]
  },
  {
   "cell_type": "code",
   "execution_count": 8,
   "id": "d480fc7b",
   "metadata": {},
   "outputs": [
    {
     "data": {
      "text/plain": [
       "(583, 11)"
      ]
     },
     "execution_count": 8,
     "metadata": {},
     "output_type": "execute_result"
    }
   ],
   "source": [
    "df.shape"
   ]
  },
  {
   "cell_type": "code",
   "execution_count": 9,
   "id": "6e428f16",
   "metadata": {},
   "outputs": [
    {
     "name": "stdout",
     "output_type": "stream",
     "text": [
      "<class 'pandas.core.frame.DataFrame'>\n",
      "RangeIndex: 583 entries, 0 to 582\n",
      "Data columns (total 11 columns):\n",
      " #   Column                      Non-Null Count  Dtype  \n",
      "---  ------                      --------------  -----  \n",
      " 0   Age                         583 non-null    int64  \n",
      " 1   Gender                      583 non-null    object \n",
      " 2   Total_Bilirubin             583 non-null    float64\n",
      " 3   Direct_Bilirubin            583 non-null    float64\n",
      " 4   Alkaline_Phosphotase        583 non-null    int64  \n",
      " 5   Alamine_Aminotransferase    583 non-null    int64  \n",
      " 6   Aspartate_Aminotransferase  583 non-null    int64  \n",
      " 7   Total_Protiens              583 non-null    float64\n",
      " 8   Albumin                     583 non-null    float64\n",
      " 9   Albumin_and_Globulin_Ratio  579 non-null    float64\n",
      " 10  Dataset                     583 non-null    int64  \n",
      "dtypes: float64(5), int64(5), object(1)\n",
      "memory usage: 50.2+ KB\n"
     ]
    }
   ],
   "source": [
    "df.info()"
   ]
  },
  {
   "cell_type": "code",
   "execution_count": 10,
   "id": "3fbfc369",
   "metadata": {},
   "outputs": [
    {
     "data": {
      "text/html": [
       "<div>\n",
       "<style scoped>\n",
       "    .dataframe tbody tr th:only-of-type {\n",
       "        vertical-align: middle;\n",
       "    }\n",
       "\n",
       "    .dataframe tbody tr th {\n",
       "        vertical-align: top;\n",
       "    }\n",
       "\n",
       "    .dataframe thead th {\n",
       "        text-align: right;\n",
       "    }\n",
       "</style>\n",
       "<table border=\"1\" class=\"dataframe\">\n",
       "  <thead>\n",
       "    <tr style=\"text-align: right;\">\n",
       "      <th></th>\n",
       "      <th>Age</th>\n",
       "      <th>Total_Bilirubin</th>\n",
       "      <th>Direct_Bilirubin</th>\n",
       "      <th>Alkaline_Phosphotase</th>\n",
       "      <th>Alamine_Aminotransferase</th>\n",
       "      <th>Aspartate_Aminotransferase</th>\n",
       "      <th>Total_Protiens</th>\n",
       "      <th>Albumin</th>\n",
       "      <th>Albumin_and_Globulin_Ratio</th>\n",
       "      <th>Dataset</th>\n",
       "    </tr>\n",
       "  </thead>\n",
       "  <tbody>\n",
       "    <tr>\n",
       "      <th>count</th>\n",
       "      <td>583.000000</td>\n",
       "      <td>583.000000</td>\n",
       "      <td>583.000000</td>\n",
       "      <td>583.000000</td>\n",
       "      <td>583.000000</td>\n",
       "      <td>583.000000</td>\n",
       "      <td>583.000000</td>\n",
       "      <td>583.000000</td>\n",
       "      <td>579.000000</td>\n",
       "      <td>583.000000</td>\n",
       "    </tr>\n",
       "    <tr>\n",
       "      <th>mean</th>\n",
       "      <td>44.746141</td>\n",
       "      <td>3.298799</td>\n",
       "      <td>1.486106</td>\n",
       "      <td>290.576329</td>\n",
       "      <td>80.713551</td>\n",
       "      <td>109.910806</td>\n",
       "      <td>6.483190</td>\n",
       "      <td>3.141852</td>\n",
       "      <td>0.947064</td>\n",
       "      <td>1.286449</td>\n",
       "    </tr>\n",
       "    <tr>\n",
       "      <th>std</th>\n",
       "      <td>16.189833</td>\n",
       "      <td>6.209522</td>\n",
       "      <td>2.808498</td>\n",
       "      <td>242.937989</td>\n",
       "      <td>182.620356</td>\n",
       "      <td>288.918529</td>\n",
       "      <td>1.085451</td>\n",
       "      <td>0.795519</td>\n",
       "      <td>0.319592</td>\n",
       "      <td>0.452490</td>\n",
       "    </tr>\n",
       "    <tr>\n",
       "      <th>min</th>\n",
       "      <td>4.000000</td>\n",
       "      <td>0.400000</td>\n",
       "      <td>0.100000</td>\n",
       "      <td>63.000000</td>\n",
       "      <td>10.000000</td>\n",
       "      <td>10.000000</td>\n",
       "      <td>2.700000</td>\n",
       "      <td>0.900000</td>\n",
       "      <td>0.300000</td>\n",
       "      <td>1.000000</td>\n",
       "    </tr>\n",
       "    <tr>\n",
       "      <th>25%</th>\n",
       "      <td>33.000000</td>\n",
       "      <td>0.800000</td>\n",
       "      <td>0.200000</td>\n",
       "      <td>175.500000</td>\n",
       "      <td>23.000000</td>\n",
       "      <td>25.000000</td>\n",
       "      <td>5.800000</td>\n",
       "      <td>2.600000</td>\n",
       "      <td>0.700000</td>\n",
       "      <td>1.000000</td>\n",
       "    </tr>\n",
       "    <tr>\n",
       "      <th>50%</th>\n",
       "      <td>45.000000</td>\n",
       "      <td>1.000000</td>\n",
       "      <td>0.300000</td>\n",
       "      <td>208.000000</td>\n",
       "      <td>35.000000</td>\n",
       "      <td>42.000000</td>\n",
       "      <td>6.600000</td>\n",
       "      <td>3.100000</td>\n",
       "      <td>0.930000</td>\n",
       "      <td>1.000000</td>\n",
       "    </tr>\n",
       "    <tr>\n",
       "      <th>75%</th>\n",
       "      <td>58.000000</td>\n",
       "      <td>2.600000</td>\n",
       "      <td>1.300000</td>\n",
       "      <td>298.000000</td>\n",
       "      <td>60.500000</td>\n",
       "      <td>87.000000</td>\n",
       "      <td>7.200000</td>\n",
       "      <td>3.800000</td>\n",
       "      <td>1.100000</td>\n",
       "      <td>2.000000</td>\n",
       "    </tr>\n",
       "    <tr>\n",
       "      <th>max</th>\n",
       "      <td>90.000000</td>\n",
       "      <td>75.000000</td>\n",
       "      <td>19.700000</td>\n",
       "      <td>2110.000000</td>\n",
       "      <td>2000.000000</td>\n",
       "      <td>4929.000000</td>\n",
       "      <td>9.600000</td>\n",
       "      <td>5.500000</td>\n",
       "      <td>2.800000</td>\n",
       "      <td>2.000000</td>\n",
       "    </tr>\n",
       "  </tbody>\n",
       "</table>\n",
       "</div>"
      ],
      "text/plain": [
       "              Age  Total_Bilirubin  Direct_Bilirubin  Alkaline_Phosphotase  \\\n",
       "count  583.000000       583.000000        583.000000            583.000000   \n",
       "mean    44.746141         3.298799          1.486106            290.576329   \n",
       "std     16.189833         6.209522          2.808498            242.937989   \n",
       "min      4.000000         0.400000          0.100000             63.000000   \n",
       "25%     33.000000         0.800000          0.200000            175.500000   \n",
       "50%     45.000000         1.000000          0.300000            208.000000   \n",
       "75%     58.000000         2.600000          1.300000            298.000000   \n",
       "max     90.000000        75.000000         19.700000           2110.000000   \n",
       "\n",
       "       Alamine_Aminotransferase  Aspartate_Aminotransferase  Total_Protiens  \\\n",
       "count                583.000000                  583.000000      583.000000   \n",
       "mean                  80.713551                  109.910806        6.483190   \n",
       "std                  182.620356                  288.918529        1.085451   \n",
       "min                   10.000000                   10.000000        2.700000   \n",
       "25%                   23.000000                   25.000000        5.800000   \n",
       "50%                   35.000000                   42.000000        6.600000   \n",
       "75%                   60.500000                   87.000000        7.200000   \n",
       "max                 2000.000000                 4929.000000        9.600000   \n",
       "\n",
       "          Albumin  Albumin_and_Globulin_Ratio     Dataset  \n",
       "count  583.000000                  579.000000  583.000000  \n",
       "mean     3.141852                    0.947064    1.286449  \n",
       "std      0.795519                    0.319592    0.452490  \n",
       "min      0.900000                    0.300000    1.000000  \n",
       "25%      2.600000                    0.700000    1.000000  \n",
       "50%      3.100000                    0.930000    1.000000  \n",
       "75%      3.800000                    1.100000    2.000000  \n",
       "max      5.500000                    2.800000    2.000000  "
      ]
     },
     "execution_count": 10,
     "metadata": {},
     "output_type": "execute_result"
    }
   ],
   "source": [
    "df.describe()"
   ]
  },
  {
   "cell_type": "code",
   "execution_count": 11,
   "id": "f6fb1a44",
   "metadata": {},
   "outputs": [
    {
     "data": {
      "text/plain": [
       "count    579.000000\n",
       "mean       0.947064\n",
       "std        0.319592\n",
       "min        0.300000\n",
       "25%        0.700000\n",
       "50%        0.930000\n",
       "75%        1.100000\n",
       "max        2.800000\n",
       "Name: Albumin_and_Globulin_Ratio, dtype: float64"
      ]
     },
     "execution_count": 11,
     "metadata": {},
     "output_type": "execute_result"
    }
   ],
   "source": [
    "df['Albumin_and_Globulin_Ratio'].describe()"
   ]
  },
  {
   "cell_type": "code",
   "execution_count": 12,
   "id": "d4f494ef",
   "metadata": {},
   "outputs": [
    {
     "data": {
      "text/plain": [
       "array([0.9 , 0.74, 0.89, 1.  , 0.4 , 1.3 , 1.1 , 1.2 , 0.8 , 0.6 , 0.87,\n",
       "       0.7 , 0.92, 0.55, 0.5 , 1.85, 0.95, 1.4 , 1.18, 0.61, 1.34, 1.39,\n",
       "       1.6 , 1.58, 1.25, 0.78, 0.76, 1.55, 0.71, 0.62, 0.67, 0.75, 1.16,\n",
       "       1.5 , 1.66, 0.96, 1.38, 0.52, 0.47, 0.93, 0.48, 0.58, 0.69, 1.27,\n",
       "       1.12, 1.06, 0.53, 1.03, 0.68,  nan, 1.9 , 1.7 , 1.8 , 0.3 , 0.97,\n",
       "       0.35, 1.51, 0.64, 0.45, 1.36, 0.88, 1.09, 1.11, 1.72, 2.8 , 0.46,\n",
       "       0.39, 1.02, 2.5 , 0.37])"
      ]
     },
     "execution_count": 12,
     "metadata": {},
     "output_type": "execute_result"
    }
   ],
   "source": [
    "df['Albumin_and_Globulin_Ratio'].unique()"
   ]
  },
  {
   "cell_type": "code",
   "execution_count": 13,
   "id": "767fe91d",
   "metadata": {},
   "outputs": [
    {
     "data": {
      "text/plain": [
       "4"
      ]
     },
     "execution_count": 13,
     "metadata": {},
     "output_type": "execute_result"
    }
   ],
   "source": [
    "df['Albumin_and_Globulin_Ratio'].isnull().sum()"
   ]
  },
  {
   "cell_type": "code",
   "execution_count": 14,
   "id": "73d9fcb0",
   "metadata": {},
   "outputs": [
    {
     "data": {
      "text/html": [
       "<div>\n",
       "<style scoped>\n",
       "    .dataframe tbody tr th:only-of-type {\n",
       "        vertical-align: middle;\n",
       "    }\n",
       "\n",
       "    .dataframe tbody tr th {\n",
       "        vertical-align: top;\n",
       "    }\n",
       "\n",
       "    .dataframe thead th {\n",
       "        text-align: right;\n",
       "    }\n",
       "</style>\n",
       "<table border=\"1\" class=\"dataframe\">\n",
       "  <thead>\n",
       "    <tr style=\"text-align: right;\">\n",
       "      <th></th>\n",
       "      <th>Age</th>\n",
       "      <th>Gender</th>\n",
       "      <th>Total_Bilirubin</th>\n",
       "      <th>Direct_Bilirubin</th>\n",
       "      <th>Alkaline_Phosphotase</th>\n",
       "      <th>Alamine_Aminotransferase</th>\n",
       "      <th>Aspartate_Aminotransferase</th>\n",
       "      <th>Total_Protiens</th>\n",
       "      <th>Albumin</th>\n",
       "      <th>Albumin_and_Globulin_Ratio</th>\n",
       "      <th>Dataset</th>\n",
       "    </tr>\n",
       "  </thead>\n",
       "  <tbody>\n",
       "    <tr>\n",
       "      <th>209</th>\n",
       "      <td>45</td>\n",
       "      <td>Female</td>\n",
       "      <td>0.9</td>\n",
       "      <td>0.3</td>\n",
       "      <td>189</td>\n",
       "      <td>23</td>\n",
       "      <td>33</td>\n",
       "      <td>6.6</td>\n",
       "      <td>3.9</td>\n",
       "      <td>NaN</td>\n",
       "      <td>1</td>\n",
       "    </tr>\n",
       "    <tr>\n",
       "      <th>241</th>\n",
       "      <td>51</td>\n",
       "      <td>Male</td>\n",
       "      <td>0.8</td>\n",
       "      <td>0.2</td>\n",
       "      <td>230</td>\n",
       "      <td>24</td>\n",
       "      <td>46</td>\n",
       "      <td>6.5</td>\n",
       "      <td>3.1</td>\n",
       "      <td>NaN</td>\n",
       "      <td>1</td>\n",
       "    </tr>\n",
       "    <tr>\n",
       "      <th>253</th>\n",
       "      <td>35</td>\n",
       "      <td>Female</td>\n",
       "      <td>0.6</td>\n",
       "      <td>0.2</td>\n",
       "      <td>180</td>\n",
       "      <td>12</td>\n",
       "      <td>15</td>\n",
       "      <td>5.2</td>\n",
       "      <td>2.7</td>\n",
       "      <td>NaN</td>\n",
       "      <td>2</td>\n",
       "    </tr>\n",
       "    <tr>\n",
       "      <th>312</th>\n",
       "      <td>27</td>\n",
       "      <td>Male</td>\n",
       "      <td>1.3</td>\n",
       "      <td>0.6</td>\n",
       "      <td>106</td>\n",
       "      <td>25</td>\n",
       "      <td>54</td>\n",
       "      <td>8.5</td>\n",
       "      <td>4.8</td>\n",
       "      <td>NaN</td>\n",
       "      <td>2</td>\n",
       "    </tr>\n",
       "  </tbody>\n",
       "</table>\n",
       "</div>"
      ],
      "text/plain": [
       "     Age  Gender  Total_Bilirubin  Direct_Bilirubin  Alkaline_Phosphotase  \\\n",
       "209   45  Female              0.9               0.3                   189   \n",
       "241   51    Male              0.8               0.2                   230   \n",
       "253   35  Female              0.6               0.2                   180   \n",
       "312   27    Male              1.3               0.6                   106   \n",
       "\n",
       "     Alamine_Aminotransferase  Aspartate_Aminotransferase  Total_Protiens  \\\n",
       "209                        23                          33             6.6   \n",
       "241                        24                          46             6.5   \n",
       "253                        12                          15             5.2   \n",
       "312                        25                          54             8.5   \n",
       "\n",
       "     Albumin  Albumin_and_Globulin_Ratio  Dataset  \n",
       "209      3.9                         NaN        1  \n",
       "241      3.1                         NaN        1  \n",
       "253      2.7                         NaN        2  \n",
       "312      4.8                         NaN        2  "
      ]
     },
     "execution_count": 14,
     "metadata": {},
     "output_type": "execute_result"
    }
   ],
   "source": [
    "df[df['Albumin_and_Globulin_Ratio'].isnull()]"
   ]
  },
  {
   "cell_type": "code",
   "execution_count": 15,
   "id": "c19b051a",
   "metadata": {},
   "outputs": [],
   "source": [
    "# df['Albumin_and_Globulin_Ratio'].mode()"
   ]
  },
  {
   "cell_type": "code",
   "execution_count": 16,
   "id": "0a49037f",
   "metadata": {},
   "outputs": [
    {
     "data": {
      "text/plain": [
       "(0,\n",
       " count    583.000000\n",
       " mean       0.947427\n",
       " std        0.318522\n",
       " min        0.300000\n",
       " 25%        0.700000\n",
       " 50%        0.950000\n",
       " 75%        1.100000\n",
       " max        2.800000\n",
       " Name: Albumin_and_Globulin_Ratio, dtype: float64)"
      ]
     },
     "execution_count": 16,
     "metadata": {},
     "output_type": "execute_result"
    }
   ],
   "source": [
    "df['Albumin_and_Globulin_Ratio']=df['Albumin_and_Globulin_Ratio'].fillna(df['Albumin_and_Globulin_Ratio'].mode()[0])\n",
    "df['Albumin_and_Globulin_Ratio'].isnull().sum(),df['Albumin_and_Globulin_Ratio'].describe()"
   ]
  },
  {
   "cell_type": "markdown",
   "id": "368349b9",
   "metadata": {},
   "source": [
    "# Encoding the Gender column"
   ]
  },
  {
   "cell_type": "code",
   "execution_count": 17,
   "id": "6731c859",
   "metadata": {},
   "outputs": [
    {
     "name": "stderr",
     "output_type": "stream",
     "text": [
      "C:\\Users\\tanze\\anaconda3\\lib\\site-packages\\sklearn\\utils\\deprecation.py:87: FutureWarning: Function get_feature_names is deprecated; get_feature_names is deprecated in 1.0 and will be removed in 1.2. Please use get_feature_names_out instead.\n",
      "  warnings.warn(msg, category=FutureWarning)\n"
     ]
    },
    {
     "data": {
      "text/html": [
       "<div>\n",
       "<style scoped>\n",
       "    .dataframe tbody tr th:only-of-type {\n",
       "        vertical-align: middle;\n",
       "    }\n",
       "\n",
       "    .dataframe tbody tr th {\n",
       "        vertical-align: top;\n",
       "    }\n",
       "\n",
       "    .dataframe thead th {\n",
       "        text-align: right;\n",
       "    }\n",
       "</style>\n",
       "<table border=\"1\" class=\"dataframe\">\n",
       "  <thead>\n",
       "    <tr style=\"text-align: right;\">\n",
       "      <th></th>\n",
       "      <th>Age</th>\n",
       "      <th>Total_Bilirubin</th>\n",
       "      <th>Direct_Bilirubin</th>\n",
       "      <th>Alkaline_Phosphotase</th>\n",
       "      <th>Alamine_Aminotransferase</th>\n",
       "      <th>Aspartate_Aminotransferase</th>\n",
       "      <th>Total_Protiens</th>\n",
       "      <th>Albumin</th>\n",
       "      <th>Albumin_and_Globulin_Ratio</th>\n",
       "      <th>Dataset</th>\n",
       "      <th>Gender_Female</th>\n",
       "      <th>Gender_Male</th>\n",
       "    </tr>\n",
       "  </thead>\n",
       "  <tbody>\n",
       "    <tr>\n",
       "      <th>0</th>\n",
       "      <td>65</td>\n",
       "      <td>0.7</td>\n",
       "      <td>0.1</td>\n",
       "      <td>187</td>\n",
       "      <td>16</td>\n",
       "      <td>18</td>\n",
       "      <td>6.8</td>\n",
       "      <td>3.3</td>\n",
       "      <td>0.90</td>\n",
       "      <td>1</td>\n",
       "      <td>1.0</td>\n",
       "      <td>0.0</td>\n",
       "    </tr>\n",
       "    <tr>\n",
       "      <th>1</th>\n",
       "      <td>62</td>\n",
       "      <td>10.9</td>\n",
       "      <td>5.5</td>\n",
       "      <td>699</td>\n",
       "      <td>64</td>\n",
       "      <td>100</td>\n",
       "      <td>7.5</td>\n",
       "      <td>3.2</td>\n",
       "      <td>0.74</td>\n",
       "      <td>1</td>\n",
       "      <td>0.0</td>\n",
       "      <td>1.0</td>\n",
       "    </tr>\n",
       "    <tr>\n",
       "      <th>2</th>\n",
       "      <td>62</td>\n",
       "      <td>7.3</td>\n",
       "      <td>4.1</td>\n",
       "      <td>490</td>\n",
       "      <td>60</td>\n",
       "      <td>68</td>\n",
       "      <td>7.0</td>\n",
       "      <td>3.3</td>\n",
       "      <td>0.89</td>\n",
       "      <td>1</td>\n",
       "      <td>0.0</td>\n",
       "      <td>1.0</td>\n",
       "    </tr>\n",
       "    <tr>\n",
       "      <th>3</th>\n",
       "      <td>58</td>\n",
       "      <td>1.0</td>\n",
       "      <td>0.4</td>\n",
       "      <td>182</td>\n",
       "      <td>14</td>\n",
       "      <td>20</td>\n",
       "      <td>6.8</td>\n",
       "      <td>3.4</td>\n",
       "      <td>1.00</td>\n",
       "      <td>1</td>\n",
       "      <td>0.0</td>\n",
       "      <td>1.0</td>\n",
       "    </tr>\n",
       "    <tr>\n",
       "      <th>4</th>\n",
       "      <td>72</td>\n",
       "      <td>3.9</td>\n",
       "      <td>2.0</td>\n",
       "      <td>195</td>\n",
       "      <td>27</td>\n",
       "      <td>59</td>\n",
       "      <td>7.3</td>\n",
       "      <td>2.4</td>\n",
       "      <td>0.40</td>\n",
       "      <td>1</td>\n",
       "      <td>0.0</td>\n",
       "      <td>1.0</td>\n",
       "    </tr>\n",
       "  </tbody>\n",
       "</table>\n",
       "</div>"
      ],
      "text/plain": [
       "   Age  Total_Bilirubin  Direct_Bilirubin  Alkaline_Phosphotase  \\\n",
       "0   65              0.7               0.1                   187   \n",
       "1   62             10.9               5.5                   699   \n",
       "2   62              7.3               4.1                   490   \n",
       "3   58              1.0               0.4                   182   \n",
       "4   72              3.9               2.0                   195   \n",
       "\n",
       "   Alamine_Aminotransferase  Aspartate_Aminotransferase  Total_Protiens  \\\n",
       "0                        16                          18             6.8   \n",
       "1                        64                         100             7.5   \n",
       "2                        60                          68             7.0   \n",
       "3                        14                          20             6.8   \n",
       "4                        27                          59             7.3   \n",
       "\n",
       "   Albumin  Albumin_and_Globulin_Ratio  Dataset  Gender_Female  Gender_Male  \n",
       "0      3.3                        0.90        1            1.0          0.0  \n",
       "1      3.2                        0.74        1            0.0          1.0  \n",
       "2      3.3                        0.89        1            0.0          1.0  \n",
       "3      3.4                        1.00        1            0.0          1.0  \n",
       "4      2.4                        0.40        1            0.0          1.0  "
      ]
     },
     "execution_count": 17,
     "metadata": {},
     "output_type": "execute_result"
    }
   ],
   "source": [
    "#Encoding the Gender column\n",
    "\n",
    "categorical = ['Gender']\n",
    "ohe = OneHotEncoder()\n",
    "ohe.fit(df[categorical])\n",
    "\n",
    "enc_df = pd.DataFrame(ohe.transform(df[categorical]).toarray(),columns=ohe.get_feature_names(categorical))\n",
    "\n",
    "#concatenating the Data with Encoded gender values\n",
    "\n",
    "data = df.join(enc_df).drop('Gender',axis=1)\n",
    "data.head()\n",
    "\n"
   ]
  },
  {
   "cell_type": "code",
   "execution_count": 18,
   "id": "65197567",
   "metadata": {},
   "outputs": [],
   "source": [
    "#Rearranging the DataFrame:\n",
    "\n",
    "# dataset = df['Dataset'].values.reshape(-1,1)\n",
    "# hospital_data.drop('Dataset',axis=1,inplace=True)\n",
    "# hospital_data.insert(11,'Dataset',dataset)\n",
    "# hospital_data.head()"
   ]
  },
  {
   "cell_type": "code",
   "execution_count": 19,
   "id": "85f0ce28",
   "metadata": {},
   "outputs": [],
   "source": [
    "# hospital_data['Dataset'].values.reshape(-1,1)"
   ]
  },
  {
   "cell_type": "markdown",
   "id": "c4fcc72c",
   "metadata": {},
   "source": [
    "## Checking the distribution of Dataset"
   ]
  },
  {
   "cell_type": "code",
   "execution_count": 20,
   "id": "f5a63b5b",
   "metadata": {},
   "outputs": [
    {
     "data": {
      "text/html": [
       "<div>\n",
       "<style scoped>\n",
       "    .dataframe tbody tr th:only-of-type {\n",
       "        vertical-align: middle;\n",
       "    }\n",
       "\n",
       "    .dataframe tbody tr th {\n",
       "        vertical-align: top;\n",
       "    }\n",
       "\n",
       "    .dataframe thead th {\n",
       "        text-align: right;\n",
       "    }\n",
       "</style>\n",
       "<table border=\"1\" class=\"dataframe\">\n",
       "  <thead>\n",
       "    <tr style=\"text-align: right;\">\n",
       "      <th></th>\n",
       "      <th>Age</th>\n",
       "      <th>Total_Bilirubin</th>\n",
       "      <th>Direct_Bilirubin</th>\n",
       "      <th>Alkaline_Phosphotase</th>\n",
       "      <th>Alamine_Aminotransferase</th>\n",
       "      <th>Aspartate_Aminotransferase</th>\n",
       "      <th>Total_Protiens</th>\n",
       "      <th>Albumin</th>\n",
       "      <th>Albumin_and_Globulin_Ratio</th>\n",
       "      <th>Dataset</th>\n",
       "      <th>Gender_Female</th>\n",
       "      <th>Gender_Male</th>\n",
       "    </tr>\n",
       "  </thead>\n",
       "  <tbody>\n",
       "    <tr>\n",
       "      <th>count</th>\n",
       "      <td>583.000000</td>\n",
       "      <td>583.000000</td>\n",
       "      <td>583.000000</td>\n",
       "      <td>583.000000</td>\n",
       "      <td>583.000000</td>\n",
       "      <td>583.000000</td>\n",
       "      <td>583.000000</td>\n",
       "      <td>583.000000</td>\n",
       "      <td>583.000000</td>\n",
       "      <td>583.000000</td>\n",
       "      <td>583.000000</td>\n",
       "      <td>583.000000</td>\n",
       "    </tr>\n",
       "    <tr>\n",
       "      <th>mean</th>\n",
       "      <td>44.746141</td>\n",
       "      <td>3.298799</td>\n",
       "      <td>1.486106</td>\n",
       "      <td>290.576329</td>\n",
       "      <td>80.713551</td>\n",
       "      <td>109.910806</td>\n",
       "      <td>6.483190</td>\n",
       "      <td>3.141852</td>\n",
       "      <td>0.947427</td>\n",
       "      <td>1.286449</td>\n",
       "      <td>0.243568</td>\n",
       "      <td>0.756432</td>\n",
       "    </tr>\n",
       "    <tr>\n",
       "      <th>std</th>\n",
       "      <td>16.189833</td>\n",
       "      <td>6.209522</td>\n",
       "      <td>2.808498</td>\n",
       "      <td>242.937989</td>\n",
       "      <td>182.620356</td>\n",
       "      <td>288.918529</td>\n",
       "      <td>1.085451</td>\n",
       "      <td>0.795519</td>\n",
       "      <td>0.318522</td>\n",
       "      <td>0.452490</td>\n",
       "      <td>0.429603</td>\n",
       "      <td>0.429603</td>\n",
       "    </tr>\n",
       "    <tr>\n",
       "      <th>min</th>\n",
       "      <td>4.000000</td>\n",
       "      <td>0.400000</td>\n",
       "      <td>0.100000</td>\n",
       "      <td>63.000000</td>\n",
       "      <td>10.000000</td>\n",
       "      <td>10.000000</td>\n",
       "      <td>2.700000</td>\n",
       "      <td>0.900000</td>\n",
       "      <td>0.300000</td>\n",
       "      <td>1.000000</td>\n",
       "      <td>0.000000</td>\n",
       "      <td>0.000000</td>\n",
       "    </tr>\n",
       "    <tr>\n",
       "      <th>25%</th>\n",
       "      <td>33.000000</td>\n",
       "      <td>0.800000</td>\n",
       "      <td>0.200000</td>\n",
       "      <td>175.500000</td>\n",
       "      <td>23.000000</td>\n",
       "      <td>25.000000</td>\n",
       "      <td>5.800000</td>\n",
       "      <td>2.600000</td>\n",
       "      <td>0.700000</td>\n",
       "      <td>1.000000</td>\n",
       "      <td>0.000000</td>\n",
       "      <td>1.000000</td>\n",
       "    </tr>\n",
       "    <tr>\n",
       "      <th>50%</th>\n",
       "      <td>45.000000</td>\n",
       "      <td>1.000000</td>\n",
       "      <td>0.300000</td>\n",
       "      <td>208.000000</td>\n",
       "      <td>35.000000</td>\n",
       "      <td>42.000000</td>\n",
       "      <td>6.600000</td>\n",
       "      <td>3.100000</td>\n",
       "      <td>0.950000</td>\n",
       "      <td>1.000000</td>\n",
       "      <td>0.000000</td>\n",
       "      <td>1.000000</td>\n",
       "    </tr>\n",
       "    <tr>\n",
       "      <th>75%</th>\n",
       "      <td>58.000000</td>\n",
       "      <td>2.600000</td>\n",
       "      <td>1.300000</td>\n",
       "      <td>298.000000</td>\n",
       "      <td>60.500000</td>\n",
       "      <td>87.000000</td>\n",
       "      <td>7.200000</td>\n",
       "      <td>3.800000</td>\n",
       "      <td>1.100000</td>\n",
       "      <td>2.000000</td>\n",
       "      <td>0.000000</td>\n",
       "      <td>1.000000</td>\n",
       "    </tr>\n",
       "    <tr>\n",
       "      <th>max</th>\n",
       "      <td>90.000000</td>\n",
       "      <td>75.000000</td>\n",
       "      <td>19.700000</td>\n",
       "      <td>2110.000000</td>\n",
       "      <td>2000.000000</td>\n",
       "      <td>4929.000000</td>\n",
       "      <td>9.600000</td>\n",
       "      <td>5.500000</td>\n",
       "      <td>2.800000</td>\n",
       "      <td>2.000000</td>\n",
       "      <td>1.000000</td>\n",
       "      <td>1.000000</td>\n",
       "    </tr>\n",
       "  </tbody>\n",
       "</table>\n",
       "</div>"
      ],
      "text/plain": [
       "              Age  Total_Bilirubin  Direct_Bilirubin  Alkaline_Phosphotase  \\\n",
       "count  583.000000       583.000000        583.000000            583.000000   \n",
       "mean    44.746141         3.298799          1.486106            290.576329   \n",
       "std     16.189833         6.209522          2.808498            242.937989   \n",
       "min      4.000000         0.400000          0.100000             63.000000   \n",
       "25%     33.000000         0.800000          0.200000            175.500000   \n",
       "50%     45.000000         1.000000          0.300000            208.000000   \n",
       "75%     58.000000         2.600000          1.300000            298.000000   \n",
       "max     90.000000        75.000000         19.700000           2110.000000   \n",
       "\n",
       "       Alamine_Aminotransferase  Aspartate_Aminotransferase  Total_Protiens  \\\n",
       "count                583.000000                  583.000000      583.000000   \n",
       "mean                  80.713551                  109.910806        6.483190   \n",
       "std                  182.620356                  288.918529        1.085451   \n",
       "min                   10.000000                   10.000000        2.700000   \n",
       "25%                   23.000000                   25.000000        5.800000   \n",
       "50%                   35.000000                   42.000000        6.600000   \n",
       "75%                   60.500000                   87.000000        7.200000   \n",
       "max                 2000.000000                 4929.000000        9.600000   \n",
       "\n",
       "          Albumin  Albumin_and_Globulin_Ratio     Dataset  Gender_Female  \\\n",
       "count  583.000000                  583.000000  583.000000     583.000000   \n",
       "mean     3.141852                    0.947427    1.286449       0.243568   \n",
       "std      0.795519                    0.318522    0.452490       0.429603   \n",
       "min      0.900000                    0.300000    1.000000       0.000000   \n",
       "25%      2.600000                    0.700000    1.000000       0.000000   \n",
       "50%      3.100000                    0.950000    1.000000       0.000000   \n",
       "75%      3.800000                    1.100000    2.000000       0.000000   \n",
       "max      5.500000                    2.800000    2.000000       1.000000   \n",
       "\n",
       "       Gender_Male  \n",
       "count   583.000000  \n",
       "mean      0.756432  \n",
       "std       0.429603  \n",
       "min       0.000000  \n",
       "25%       1.000000  \n",
       "50%       1.000000  \n",
       "75%       1.000000  \n",
       "max       1.000000  "
      ]
     },
     "execution_count": 20,
     "metadata": {},
     "output_type": "execute_result"
    }
   ],
   "source": [
    "data.describe()"
   ]
  },
  {
   "cell_type": "code",
   "execution_count": 21,
   "id": "ca0003b8",
   "metadata": {},
   "outputs": [
    {
     "name": "stdout",
     "output_type": "stream",
     "text": [
      "Liver Disease  71.36 % of data.\n",
      "Non-Liver Disease  28.64 % of data.\n",
      "\n",
      "Liver Disease:  416\n",
      "Non-Liver Disease:  167\n"
     ]
    }
   ],
   "source": [
    "print('Liver Disease ',round(data['Dataset'].value_counts()[1]/len(data)*100,2),'% of data.')\n",
    "print('Non-Liver Disease ',round(data['Dataset'].value_counts()[2]/len(data)*100,2),'% of data.')\n",
    "print('\\nLiver Disease: ',data['Dataset'].value_counts()[1])\n",
    "print('Non-Liver Disease: ',data['Dataset'].value_counts()[2])"
   ]
  },
  {
   "cell_type": "code",
   "execution_count": 22,
   "id": "088c2491",
   "metadata": {},
   "outputs": [
    {
     "data": {
      "text/plain": [
       "Text(0.5, 1.0, 'Frequency distribution of Dataset')"
      ]
     },
     "execution_count": 22,
     "metadata": {},
     "output_type": "execute_result"
    },
    {
     "data": {
      "image/png": "[encoded data removed]",
      "text/plain": [
       "<Figure size 432x288 with 1 Axes>"
      ]
     },
     "metadata": {
      "needs_background": "light"
     },
     "output_type": "display_data"
    }
   ],
   "source": [
    "f, ax = plt.subplots(figsize=(6, 4))\n",
    "ax = sns.countplot(x=\"Dataset\", data=data, palette=\"Set1\")\n",
    "ax.set_title(\"Frequency distribution of Dataset\")\n"
   ]
  },
  {
   "cell_type": "code",
   "execution_count": 23,
   "id": "950a2880",
   "metadata": {},
   "outputs": [
    {
     "data": {
      "text/html": [
       "<div>\n",
       "<style scoped>\n",
       "    .dataframe tbody tr th:only-of-type {\n",
       "        vertical-align: middle;\n",
       "    }\n",
       "\n",
       "    .dataframe tbody tr th {\n",
       "        vertical-align: top;\n",
       "    }\n",
       "\n",
       "    .dataframe thead th {\n",
       "        text-align: right;\n",
       "    }\n",
       "</style>\n",
       "<table border=\"1\" class=\"dataframe\">\n",
       "  <thead>\n",
       "    <tr style=\"text-align: right;\">\n",
       "      <th></th>\n",
       "      <th>Total_Bilirubin</th>\n",
       "      <th>Direct_Bilirubin</th>\n",
       "      <th>Alkaline_Phosphotase</th>\n",
       "      <th>Alamine_Aminotransferase</th>\n",
       "      <th>Aspartate_Aminotransferase</th>\n",
       "      <th>Total_Protiens</th>\n",
       "      <th>Albumin</th>\n",
       "      <th>Albumin_and_Globulin_Ratio</th>\n",
       "    </tr>\n",
       "  </thead>\n",
       "  <tbody>\n",
       "    <tr>\n",
       "      <th>count</th>\n",
       "      <td>583.000000</td>\n",
       "      <td>583.000000</td>\n",
       "      <td>583.000000</td>\n",
       "      <td>583.000000</td>\n",
       "      <td>583.000000</td>\n",
       "      <td>583.000000</td>\n",
       "      <td>583.000000</td>\n",
       "      <td>583.000000</td>\n",
       "    </tr>\n",
       "    <tr>\n",
       "      <th>mean</th>\n",
       "      <td>3.298799</td>\n",
       "      <td>1.486106</td>\n",
       "      <td>290.576329</td>\n",
       "      <td>80.713551</td>\n",
       "      <td>109.910806</td>\n",
       "      <td>6.483190</td>\n",
       "      <td>3.141852</td>\n",
       "      <td>0.947427</td>\n",
       "    </tr>\n",
       "    <tr>\n",
       "      <th>std</th>\n",
       "      <td>6.209522</td>\n",
       "      <td>2.808498</td>\n",
       "      <td>242.937989</td>\n",
       "      <td>182.620356</td>\n",
       "      <td>288.918529</td>\n",
       "      <td>1.085451</td>\n",
       "      <td>0.795519</td>\n",
       "      <td>0.318522</td>\n",
       "    </tr>\n",
       "    <tr>\n",
       "      <th>min</th>\n",
       "      <td>0.400000</td>\n",
       "      <td>0.100000</td>\n",
       "      <td>63.000000</td>\n",
       "      <td>10.000000</td>\n",
       "      <td>10.000000</td>\n",
       "      <td>2.700000</td>\n",
       "      <td>0.900000</td>\n",
       "      <td>0.300000</td>\n",
       "    </tr>\n",
       "    <tr>\n",
       "      <th>25%</th>\n",
       "      <td>0.800000</td>\n",
       "      <td>0.200000</td>\n",
       "      <td>175.500000</td>\n",
       "      <td>23.000000</td>\n",
       "      <td>25.000000</td>\n",
       "      <td>5.800000</td>\n",
       "      <td>2.600000</td>\n",
       "      <td>0.700000</td>\n",
       "    </tr>\n",
       "    <tr>\n",
       "      <th>50%</th>\n",
       "      <td>1.000000</td>\n",
       "      <td>0.300000</td>\n",
       "      <td>208.000000</td>\n",
       "      <td>35.000000</td>\n",
       "      <td>42.000000</td>\n",
       "      <td>6.600000</td>\n",
       "      <td>3.100000</td>\n",
       "      <td>0.950000</td>\n",
       "    </tr>\n",
       "    <tr>\n",
       "      <th>75%</th>\n",
       "      <td>2.600000</td>\n",
       "      <td>1.300000</td>\n",
       "      <td>298.000000</td>\n",
       "      <td>60.500000</td>\n",
       "      <td>87.000000</td>\n",
       "      <td>7.200000</td>\n",
       "      <td>3.800000</td>\n",
       "      <td>1.100000</td>\n",
       "    </tr>\n",
       "    <tr>\n",
       "      <th>max</th>\n",
       "      <td>75.000000</td>\n",
       "      <td>19.700000</td>\n",
       "      <td>2110.000000</td>\n",
       "      <td>2000.000000</td>\n",
       "      <td>4929.000000</td>\n",
       "      <td>9.600000</td>\n",
       "      <td>5.500000</td>\n",
       "      <td>2.800000</td>\n",
       "    </tr>\n",
       "  </tbody>\n",
       "</table>\n",
       "</div>"
      ],
      "text/plain": [
       "       Total_Bilirubin  Direct_Bilirubin  Alkaline_Phosphotase  \\\n",
       "count       583.000000        583.000000            583.000000   \n",
       "mean          3.298799          1.486106            290.576329   \n",
       "std           6.209522          2.808498            242.937989   \n",
       "min           0.400000          0.100000             63.000000   \n",
       "25%           0.800000          0.200000            175.500000   \n",
       "50%           1.000000          0.300000            208.000000   \n",
       "75%           2.600000          1.300000            298.000000   \n",
       "max          75.000000         19.700000           2110.000000   \n",
       "\n",
       "       Alamine_Aminotransferase  Aspartate_Aminotransferase  Total_Protiens  \\\n",
       "count                583.000000                  583.000000      583.000000   \n",
       "mean                  80.713551                  109.910806        6.483190   \n",
       "std                  182.620356                  288.918529        1.085451   \n",
       "min                   10.000000                   10.000000        2.700000   \n",
       "25%                   23.000000                   25.000000        5.800000   \n",
       "50%                   35.000000                   42.000000        6.600000   \n",
       "75%                   60.500000                   87.000000        7.200000   \n",
       "max                 2000.000000                 4929.000000        9.600000   \n",
       "\n",
       "          Albumin  Albumin_and_Globulin_Ratio  \n",
       "count  583.000000                  583.000000  \n",
       "mean     3.141852                    0.947427  \n",
       "std      0.795519                    0.318522  \n",
       "min      0.900000                    0.300000  \n",
       "25%      2.600000                    0.700000  \n",
       "50%      3.100000                    0.950000  \n",
       "75%      3.800000                    1.100000  \n",
       "max      5.500000                    2.800000  "
      ]
     },
     "execution_count": 23,
     "metadata": {},
     "output_type": "execute_result"
    }
   ],
   "source": [
    "data.drop(['Age','Dataset','Gender_Female', 'Gender_Male'],axis=1).describe()"
   ]
  },
  {
   "cell_type": "code",
   "execution_count": 24,
   "id": "4dd0a8ff",
   "metadata": {},
   "outputs": [
    {
     "data": {
      "text/html": [
       "<div>\n",
       "<style scoped>\n",
       "    .dataframe tbody tr th:only-of-type {\n",
       "        vertical-align: middle;\n",
       "    }\n",
       "\n",
       "    .dataframe tbody tr th {\n",
       "        vertical-align: top;\n",
       "    }\n",
       "\n",
       "    .dataframe thead th {\n",
       "        text-align: right;\n",
       "    }\n",
       "</style>\n",
       "<table border=\"1\" class=\"dataframe\">\n",
       "  <thead>\n",
       "    <tr style=\"text-align: right;\">\n",
       "      <th></th>\n",
       "      <th>Age</th>\n",
       "      <th>Total_Bilirubin</th>\n",
       "      <th>Direct_Bilirubin</th>\n",
       "      <th>Alkaline_Phosphotase</th>\n",
       "      <th>Alamine_Aminotransferase</th>\n",
       "      <th>Aspartate_Aminotransferase</th>\n",
       "      <th>Total_Protiens</th>\n",
       "      <th>Albumin</th>\n",
       "      <th>Albumin_and_Globulin_Ratio</th>\n",
       "      <th>Dataset</th>\n",
       "      <th>Gender_Female</th>\n",
       "      <th>Gender_Male</th>\n",
       "    </tr>\n",
       "  </thead>\n",
       "  <tbody>\n",
       "    <tr>\n",
       "      <th>0</th>\n",
       "      <td>65</td>\n",
       "      <td>0.7</td>\n",
       "      <td>0.1</td>\n",
       "      <td>187</td>\n",
       "      <td>16</td>\n",
       "      <td>18</td>\n",
       "      <td>6.8</td>\n",
       "      <td>3.3</td>\n",
       "      <td>0.90</td>\n",
       "      <td>1</td>\n",
       "      <td>1.0</td>\n",
       "      <td>0.0</td>\n",
       "    </tr>\n",
       "    <tr>\n",
       "      <th>1</th>\n",
       "      <td>62</td>\n",
       "      <td>10.9</td>\n",
       "      <td>5.5</td>\n",
       "      <td>699</td>\n",
       "      <td>64</td>\n",
       "      <td>100</td>\n",
       "      <td>7.5</td>\n",
       "      <td>3.2</td>\n",
       "      <td>0.74</td>\n",
       "      <td>1</td>\n",
       "      <td>0.0</td>\n",
       "      <td>1.0</td>\n",
       "    </tr>\n",
       "    <tr>\n",
       "      <th>2</th>\n",
       "      <td>62</td>\n",
       "      <td>7.3</td>\n",
       "      <td>4.1</td>\n",
       "      <td>490</td>\n",
       "      <td>60</td>\n",
       "      <td>68</td>\n",
       "      <td>7.0</td>\n",
       "      <td>3.3</td>\n",
       "      <td>0.89</td>\n",
       "      <td>1</td>\n",
       "      <td>0.0</td>\n",
       "      <td>1.0</td>\n",
       "    </tr>\n",
       "    <tr>\n",
       "      <th>3</th>\n",
       "      <td>58</td>\n",
       "      <td>1.0</td>\n",
       "      <td>0.4</td>\n",
       "      <td>182</td>\n",
       "      <td>14</td>\n",
       "      <td>20</td>\n",
       "      <td>6.8</td>\n",
       "      <td>3.4</td>\n",
       "      <td>1.00</td>\n",
       "      <td>1</td>\n",
       "      <td>0.0</td>\n",
       "      <td>1.0</td>\n",
       "    </tr>\n",
       "    <tr>\n",
       "      <th>4</th>\n",
       "      <td>72</td>\n",
       "      <td>3.9</td>\n",
       "      <td>2.0</td>\n",
       "      <td>195</td>\n",
       "      <td>27</td>\n",
       "      <td>59</td>\n",
       "      <td>7.3</td>\n",
       "      <td>2.4</td>\n",
       "      <td>0.40</td>\n",
       "      <td>1</td>\n",
       "      <td>0.0</td>\n",
       "      <td>1.0</td>\n",
       "    </tr>\n",
       "  </tbody>\n",
       "</table>\n",
       "</div>"
      ],
      "text/plain": [
       "   Age  Total_Bilirubin  Direct_Bilirubin  Alkaline_Phosphotase  \\\n",
       "0   65              0.7               0.1                   187   \n",
       "1   62             10.9               5.5                   699   \n",
       "2   62              7.3               4.1                   490   \n",
       "3   58              1.0               0.4                   182   \n",
       "4   72              3.9               2.0                   195   \n",
       "\n",
       "   Alamine_Aminotransferase  Aspartate_Aminotransferase  Total_Protiens  \\\n",
       "0                        16                          18             6.8   \n",
       "1                        64                         100             7.5   \n",
       "2                        60                          68             7.0   \n",
       "3                        14                          20             6.8   \n",
       "4                        27                          59             7.3   \n",
       "\n",
       "   Albumin  Albumin_and_Globulin_Ratio  Dataset  Gender_Female  Gender_Male  \n",
       "0      3.3                        0.90        1            1.0          0.0  \n",
       "1      3.2                        0.74        1            0.0          1.0  \n",
       "2      3.3                        0.89        1            0.0          1.0  \n",
       "3      3.4                        1.00        1            0.0          1.0  \n",
       "4      2.4                        0.40        1            0.0          1.0  "
      ]
     },
     "execution_count": 24,
     "metadata": {},
     "output_type": "execute_result"
    }
   ],
   "source": [
    "data.head()"
   ]
  },
  {
   "cell_type": "code",
   "execution_count": 25,
   "id": "c9efa723",
   "metadata": {},
   "outputs": [
    {
     "data": {
      "text/plain": [
       "Index(['Total_Bilirubin', 'Direct_Bilirubin', 'Alkaline_Phosphotase',\n",
       "       'Alamine_Aminotransferase', 'Aspartate_Aminotransferase',\n",
       "       'Total_Protiens', 'Albumin', 'Albumin_and_Globulin_Ratio'],\n",
       "      dtype='object')"
      ]
     },
     "execution_count": 25,
     "metadata": {},
     "output_type": "execute_result"
    }
   ],
   "source": [
    "data.columns.drop(['Age','Dataset','Gender_Female', 'Gender_Male'])"
   ]
  },
  {
   "cell_type": "code",
   "execution_count": 26,
   "id": "b2327813",
   "metadata": {},
   "outputs": [
    {
     "data": {
      "text/plain": [
       "Index(['Age', 'Total_Bilirubin', 'Direct_Bilirubin', 'Alkaline_Phosphotase',\n",
       "       'Alamine_Aminotransferase', 'Aspartate_Aminotransferase',\n",
       "       'Total_Protiens', 'Albumin', 'Albumin_and_Globulin_Ratio', 'Dataset',\n",
       "       'Gender_Female', 'Gender_Male'],\n",
       "      dtype='object')"
      ]
     },
     "execution_count": 26,
     "metadata": {},
     "output_type": "execute_result"
    }
   ],
   "source": [
    "data.columns"
   ]
  },
  {
   "cell_type": "markdown",
   "id": "b07caeb7",
   "metadata": {},
   "source": [
    "## Scaling the DataFrame:"
   ]
  },
  {
   "cell_type": "code",
   "execution_count": 27,
   "id": "28c28782",
   "metadata": {},
   "outputs": [],
   "source": [
    "std_scalar = StandardScaler()"
   ]
  },
  {
   "cell_type": "code",
   "execution_count": 28,
   "id": "2b4f1d56",
   "metadata": {},
   "outputs": [],
   "source": [
    "for i in data.columns.drop(['Age','Dataset','Gender_Female', 'Gender_Male']):\n",
    "    data[i] = std_scalar.fit_transform(data[i].values.reshape(-1,1))\n",
    "\n"
   ]
  },
  {
   "cell_type": "code",
   "execution_count": 29,
   "id": "6fed44c1",
   "metadata": {},
   "outputs": [
    {
     "data": {
      "text/html": [
       "<div>\n",
       "<style scoped>\n",
       "    .dataframe tbody tr th:only-of-type {\n",
       "        vertical-align: middle;\n",
       "    }\n",
       "\n",
       "    .dataframe tbody tr th {\n",
       "        vertical-align: top;\n",
       "    }\n",
       "\n",
       "    .dataframe thead th {\n",
       "        text-align: right;\n",
       "    }\n",
       "</style>\n",
       "<table border=\"1\" class=\"dataframe\">\n",
       "  <thead>\n",
       "    <tr style=\"text-align: right;\">\n",
       "      <th></th>\n",
       "      <th>Age</th>\n",
       "      <th>Total_Bilirubin</th>\n",
       "      <th>Direct_Bilirubin</th>\n",
       "      <th>Alkaline_Phosphotase</th>\n",
       "      <th>Alamine_Aminotransferase</th>\n",
       "      <th>Aspartate_Aminotransferase</th>\n",
       "      <th>Total_Protiens</th>\n",
       "      <th>Albumin</th>\n",
       "      <th>Albumin_and_Globulin_Ratio</th>\n",
       "      <th>Dataset</th>\n",
       "      <th>Gender_Female</th>\n",
       "      <th>Gender_Male</th>\n",
       "    </tr>\n",
       "  </thead>\n",
       "  <tbody>\n",
       "    <tr>\n",
       "      <th>0</th>\n",
       "      <td>65</td>\n",
       "      <td>-0.418878</td>\n",
       "      <td>-0.493964</td>\n",
       "      <td>-0.426715</td>\n",
       "      <td>-0.354665</td>\n",
       "      <td>-0.318393</td>\n",
       "      <td>0.292120</td>\n",
       "      <td>0.198969</td>\n",
       "      <td>-0.149025</td>\n",
       "      <td>1</td>\n",
       "      <td>1.0</td>\n",
       "      <td>0.0</td>\n",
       "    </tr>\n",
       "    <tr>\n",
       "      <th>1</th>\n",
       "      <td>62</td>\n",
       "      <td>1.225171</td>\n",
       "      <td>1.430423</td>\n",
       "      <td>1.682629</td>\n",
       "      <td>-0.091599</td>\n",
       "      <td>-0.034333</td>\n",
       "      <td>0.937566</td>\n",
       "      <td>0.073157</td>\n",
       "      <td>-0.651777</td>\n",
       "      <td>1</td>\n",
       "      <td>0.0</td>\n",
       "      <td>1.0</td>\n",
       "    </tr>\n",
       "    <tr>\n",
       "      <th>2</th>\n",
       "      <td>62</td>\n",
       "      <td>0.644919</td>\n",
       "      <td>0.931508</td>\n",
       "      <td>0.821588</td>\n",
       "      <td>-0.113522</td>\n",
       "      <td>-0.145186</td>\n",
       "      <td>0.476533</td>\n",
       "      <td>0.198969</td>\n",
       "      <td>-0.180447</td>\n",
       "      <td>1</td>\n",
       "      <td>0.0</td>\n",
       "      <td>1.0</td>\n",
       "    </tr>\n",
       "    <tr>\n",
       "      <th>3</th>\n",
       "      <td>58</td>\n",
       "      <td>-0.370523</td>\n",
       "      <td>-0.387054</td>\n",
       "      <td>-0.447314</td>\n",
       "      <td>-0.365626</td>\n",
       "      <td>-0.311465</td>\n",
       "      <td>0.292120</td>\n",
       "      <td>0.324781</td>\n",
       "      <td>0.165194</td>\n",
       "      <td>1</td>\n",
       "      <td>0.0</td>\n",
       "      <td>1.0</td>\n",
       "    </tr>\n",
       "    <tr>\n",
       "      <th>4</th>\n",
       "      <td>72</td>\n",
       "      <td>0.096902</td>\n",
       "      <td>0.183135</td>\n",
       "      <td>-0.393756</td>\n",
       "      <td>-0.294379</td>\n",
       "      <td>-0.176363</td>\n",
       "      <td>0.753153</td>\n",
       "      <td>-0.933340</td>\n",
       "      <td>-1.720124</td>\n",
       "      <td>1</td>\n",
       "      <td>0.0</td>\n",
       "      <td>1.0</td>\n",
       "    </tr>\n",
       "  </tbody>\n",
       "</table>\n",
       "</div>"
      ],
      "text/plain": [
       "   Age  Total_Bilirubin  Direct_Bilirubin  Alkaline_Phosphotase  \\\n",
       "0   65        -0.418878         -0.493964             -0.426715   \n",
       "1   62         1.225171          1.430423              1.682629   \n",
       "2   62         0.644919          0.931508              0.821588   \n",
       "3   58        -0.370523         -0.387054             -0.447314   \n",
       "4   72         0.096902          0.183135             -0.393756   \n",
       "\n",
       "   Alamine_Aminotransferase  Aspartate_Aminotransferase  Total_Protiens  \\\n",
       "0                 -0.354665                   -0.318393        0.292120   \n",
       "1                 -0.091599                   -0.034333        0.937566   \n",
       "2                 -0.113522                   -0.145186        0.476533   \n",
       "3                 -0.365626                   -0.311465        0.292120   \n",
       "4                 -0.294379                   -0.176363        0.753153   \n",
       "\n",
       "    Albumin  Albumin_and_Globulin_Ratio  Dataset  Gender_Female  Gender_Male  \n",
       "0  0.198969                   -0.149025        1            1.0          0.0  \n",
       "1  0.073157                   -0.651777        1            0.0          1.0  \n",
       "2  0.198969                   -0.180447        1            0.0          1.0  \n",
       "3  0.324781                    0.165194        1            0.0          1.0  \n",
       "4 -0.933340                   -1.720124        1            0.0          1.0  "
      ]
     },
     "execution_count": 29,
     "metadata": {},
     "output_type": "execute_result"
    }
   ],
   "source": [
    "data.head()"
   ]
  },
  {
   "cell_type": "code",
   "execution_count": 30,
   "id": "04351276",
   "metadata": {},
   "outputs": [
    {
     "data": {
      "text/html": [
       "<div>\n",
       "<style scoped>\n",
       "    .dataframe tbody tr th:only-of-type {\n",
       "        vertical-align: middle;\n",
       "    }\n",
       "\n",
       "    .dataframe tbody tr th {\n",
       "        vertical-align: top;\n",
       "    }\n",
       "\n",
       "    .dataframe thead th {\n",
       "        text-align: right;\n",
       "    }\n",
       "</style>\n",
       "<table border=\"1\" class=\"dataframe\">\n",
       "  <thead>\n",
       "    <tr style=\"text-align: right;\">\n",
       "      <th></th>\n",
       "      <th>Age</th>\n",
       "      <th>Total_Bilirubin</th>\n",
       "      <th>Direct_Bilirubin</th>\n",
       "      <th>Alkaline_Phosphotase</th>\n",
       "      <th>Alamine_Aminotransferase</th>\n",
       "      <th>Aspartate_Aminotransferase</th>\n",
       "      <th>Total_Protiens</th>\n",
       "      <th>Albumin</th>\n",
       "      <th>Albumin_and_Globulin_Ratio</th>\n",
       "      <th>Dataset</th>\n",
       "      <th>Gender_Female</th>\n",
       "      <th>Gender_Male</th>\n",
       "    </tr>\n",
       "  </thead>\n",
       "  <tbody>\n",
       "    <tr>\n",
       "      <th>count</th>\n",
       "      <td>583.000000</td>\n",
       "      <td>5.830000e+02</td>\n",
       "      <td>5.830000e+02</td>\n",
       "      <td>5.830000e+02</td>\n",
       "      <td>5.830000e+02</td>\n",
       "      <td>5.830000e+02</td>\n",
       "      <td>5.830000e+02</td>\n",
       "      <td>5.830000e+02</td>\n",
       "      <td>5.830000e+02</td>\n",
       "      <td>583.000000</td>\n",
       "      <td>583.000000</td>\n",
       "      <td>583.000000</td>\n",
       "    </tr>\n",
       "    <tr>\n",
       "      <th>mean</th>\n",
       "      <td>44.746141</td>\n",
       "      <td>1.571070e-16</td>\n",
       "      <td>1.437767e-16</td>\n",
       "      <td>-8.379042e-17</td>\n",
       "      <td>-3.941958e-17</td>\n",
       "      <td>1.047380e-17</td>\n",
       "      <td>7.603980e-16</td>\n",
       "      <td>2.787936e-16</td>\n",
       "      <td>4.730350e-16</td>\n",
       "      <td>1.286449</td>\n",
       "      <td>0.243568</td>\n",
       "      <td>0.756432</td>\n",
       "    </tr>\n",
       "    <tr>\n",
       "      <th>std</th>\n",
       "      <td>16.189833</td>\n",
       "      <td>1.000859e+00</td>\n",
       "      <td>1.000859e+00</td>\n",
       "      <td>1.000859e+00</td>\n",
       "      <td>1.000859e+00</td>\n",
       "      <td>1.000859e+00</td>\n",
       "      <td>1.000859e+00</td>\n",
       "      <td>1.000859e+00</td>\n",
       "      <td>1.000859e+00</td>\n",
       "      <td>0.452490</td>\n",
       "      <td>0.429603</td>\n",
       "      <td>0.429603</td>\n",
       "    </tr>\n",
       "    <tr>\n",
       "      <th>min</th>\n",
       "      <td>4.000000</td>\n",
       "      <td>-4.672322e-01</td>\n",
       "      <td>-4.939640e-01</td>\n",
       "      <td>-9.375716e-01</td>\n",
       "      <td>-3.875487e-01</td>\n",
       "      <td>-3.461066e-01</td>\n",
       "      <td>-3.488354e+00</td>\n",
       "      <td>-2.820521e+00</td>\n",
       "      <td>-2.034343e+00</td>\n",
       "      <td>1.000000</td>\n",
       "      <td>0.000000</td>\n",
       "      <td>0.000000</td>\n",
       "    </tr>\n",
       "    <tr>\n",
       "      <th>25%</th>\n",
       "      <td>33.000000</td>\n",
       "      <td>-4.027597e-01</td>\n",
       "      <td>-4.583272e-01</td>\n",
       "      <td>-4.740928e-01</td>\n",
       "      <td>-3.163016e-01</td>\n",
       "      <td>-2.941442e-01</td>\n",
       "      <td>-6.299472e-01</td>\n",
       "      <td>-6.817159e-01</td>\n",
       "      <td>-7.774646e-01</td>\n",
       "      <td>1.000000</td>\n",
       "      <td>0.000000</td>\n",
       "      <td>1.000000</td>\n",
       "    </tr>\n",
       "    <tr>\n",
       "      <th>50%</th>\n",
       "      <td>45.000000</td>\n",
       "      <td>-3.705234e-01</td>\n",
       "      <td>-4.226904e-01</td>\n",
       "      <td>-3.401989e-01</td>\n",
       "      <td>-2.505351e-01</td>\n",
       "      <td>-2.352536e-01</td>\n",
       "      <td>1.077063e-01</td>\n",
       "      <td>-5.265548e-02</td>\n",
       "      <td>8.084554e-03</td>\n",
       "      <td>1.000000</td>\n",
       "      <td>0.000000</td>\n",
       "      <td>1.000000</td>\n",
       "    </tr>\n",
       "    <tr>\n",
       "      <th>75%</th>\n",
       "      <td>58.000000</td>\n",
       "      <td>-1.126334e-01</td>\n",
       "      <td>-6.632235e-02</td>\n",
       "      <td>3.058412e-02</td>\n",
       "      <td>-1.107812e-01</td>\n",
       "      <td>-7.936660e-02</td>\n",
       "      <td>6.609463e-01</td>\n",
       "      <td>8.280291e-01</td>\n",
       "      <td>4.794141e-01</td>\n",
       "      <td>2.000000</td>\n",
       "      <td>0.000000</td>\n",
       "      <td>1.000000</td>\n",
       "    </tr>\n",
       "    <tr>\n",
       "      <th>max</th>\n",
       "      <td>90.000000</td>\n",
       "      <td>1.155689e+01</td>\n",
       "      <td>6.490849e+00</td>\n",
       "      <td>7.495683e+00</td>\n",
       "      <td>1.051873e+01</td>\n",
       "      <td>1.669407e+01</td>\n",
       "      <td>2.873907e+00</td>\n",
       "      <td>2.966834e+00</td>\n",
       "      <td>5.821148e+00</td>\n",
       "      <td>2.000000</td>\n",
       "      <td>1.000000</td>\n",
       "      <td>1.000000</td>\n",
       "    </tr>\n",
       "  </tbody>\n",
       "</table>\n",
       "</div>"
      ],
      "text/plain": [
       "              Age  Total_Bilirubin  Direct_Bilirubin  Alkaline_Phosphotase  \\\n",
       "count  583.000000     5.830000e+02      5.830000e+02          5.830000e+02   \n",
       "mean    44.746141     1.571070e-16      1.437767e-16         -8.379042e-17   \n",
       "std     16.189833     1.000859e+00      1.000859e+00          1.000859e+00   \n",
       "min      4.000000    -4.672322e-01     -4.939640e-01         -9.375716e-01   \n",
       "25%     33.000000    -4.027597e-01     -4.583272e-01         -4.740928e-01   \n",
       "50%     45.000000    -3.705234e-01     -4.226904e-01         -3.401989e-01   \n",
       "75%     58.000000    -1.126334e-01     -6.632235e-02          3.058412e-02   \n",
       "max     90.000000     1.155689e+01      6.490849e+00          7.495683e+00   \n",
       "\n",
       "       Alamine_Aminotransferase  Aspartate_Aminotransferase  Total_Protiens  \\\n",
       "count              5.830000e+02                5.830000e+02    5.830000e+02   \n",
       "mean              -3.941958e-17                1.047380e-17    7.603980e-16   \n",
       "std                1.000859e+00                1.000859e+00    1.000859e+00   \n",
       "min               -3.875487e-01               -3.461066e-01   -3.488354e+00   \n",
       "25%               -3.163016e-01               -2.941442e-01   -6.299472e-01   \n",
       "50%               -2.505351e-01               -2.352536e-01    1.077063e-01   \n",
       "75%               -1.107812e-01               -7.936660e-02    6.609463e-01   \n",
       "max                1.051873e+01                1.669407e+01    2.873907e+00   \n",
       "\n",
       "            Albumin  Albumin_and_Globulin_Ratio     Dataset  Gender_Female  \\\n",
       "count  5.830000e+02                5.830000e+02  583.000000     583.000000   \n",
       "mean   2.787936e-16                4.730350e-16    1.286449       0.243568   \n",
       "std    1.000859e+00                1.000859e+00    0.452490       0.429603   \n",
       "min   -2.820521e+00               -2.034343e+00    1.000000       0.000000   \n",
       "25%   -6.817159e-01               -7.774646e-01    1.000000       0.000000   \n",
       "50%   -5.265548e-02                8.084554e-03    1.000000       0.000000   \n",
       "75%    8.280291e-01                4.794141e-01    2.000000       0.000000   \n",
       "max    2.966834e+00                5.821148e+00    2.000000       1.000000   \n",
       "\n",
       "       Gender_Male  \n",
       "count   583.000000  \n",
       "mean      0.756432  \n",
       "std       0.429603  \n",
       "min       0.000000  \n",
       "25%       1.000000  \n",
       "50%       1.000000  \n",
       "75%       1.000000  \n",
       "max       1.000000  "
      ]
     },
     "execution_count": 30,
     "metadata": {},
     "output_type": "execute_result"
    }
   ],
   "source": [
    "data.describe()"
   ]
  },
  {
   "cell_type": "code",
   "execution_count": 31,
   "id": "7d46e380",
   "metadata": {},
   "outputs": [],
   "source": [
    "# rob_scalar = RobustScaler()"
   ]
  },
  {
   "cell_type": "code",
   "execution_count": 32,
   "id": "008ad5f5",
   "metadata": {},
   "outputs": [],
   "source": [
    "# for i in data.columns.drop(['Age','Dataset','Gender_Female', 'Gender_Male']):\n",
    "#     data[i] = rob_scalar.fit_transform(data[i].values.reshape(-1,1))\n",
    "\n",
    "# data.describe()"
   ]
  },
  {
   "cell_type": "code",
   "execution_count": 33,
   "id": "200d493b",
   "metadata": {},
   "outputs": [],
   "source": [
    "# data.head()"
   ]
  },
  {
   "cell_type": "code",
   "execution_count": 34,
   "id": "6bfdebe4",
   "metadata": {},
   "outputs": [
    {
     "data": {
      "text/html": [
       "<div>\n",
       "<style scoped>\n",
       "    .dataframe tbody tr th:only-of-type {\n",
       "        vertical-align: middle;\n",
       "    }\n",
       "\n",
       "    .dataframe tbody tr th {\n",
       "        vertical-align: top;\n",
       "    }\n",
       "\n",
       "    .dataframe thead th {\n",
       "        text-align: right;\n",
       "    }\n",
       "</style>\n",
       "<table border=\"1\" class=\"dataframe\">\n",
       "  <thead>\n",
       "    <tr style=\"text-align: right;\">\n",
       "      <th></th>\n",
       "      <th>Age</th>\n",
       "      <th>Total_Bilirubin</th>\n",
       "      <th>Direct_Bilirubin</th>\n",
       "      <th>Alkaline_Phosphotase</th>\n",
       "      <th>Alamine_Aminotransferase</th>\n",
       "      <th>Aspartate_Aminotransferase</th>\n",
       "      <th>Total_Protiens</th>\n",
       "      <th>Albumin</th>\n",
       "      <th>Albumin_and_Globulin_Ratio</th>\n",
       "      <th>Gender_Female</th>\n",
       "      <th>Gender_Male</th>\n",
       "      <th>Dataset</th>\n",
       "    </tr>\n",
       "  </thead>\n",
       "  <tbody>\n",
       "    <tr>\n",
       "      <th>0</th>\n",
       "      <td>65</td>\n",
       "      <td>-0.418878</td>\n",
       "      <td>-0.493964</td>\n",
       "      <td>-0.426715</td>\n",
       "      <td>-0.354665</td>\n",
       "      <td>-0.318393</td>\n",
       "      <td>0.292120</td>\n",
       "      <td>0.198969</td>\n",
       "      <td>-0.149025</td>\n",
       "      <td>1.0</td>\n",
       "      <td>0.0</td>\n",
       "      <td>1</td>\n",
       "    </tr>\n",
       "    <tr>\n",
       "      <th>1</th>\n",
       "      <td>62</td>\n",
       "      <td>1.225171</td>\n",
       "      <td>1.430423</td>\n",
       "      <td>1.682629</td>\n",
       "      <td>-0.091599</td>\n",
       "      <td>-0.034333</td>\n",
       "      <td>0.937566</td>\n",
       "      <td>0.073157</td>\n",
       "      <td>-0.651777</td>\n",
       "      <td>0.0</td>\n",
       "      <td>1.0</td>\n",
       "      <td>1</td>\n",
       "    </tr>\n",
       "    <tr>\n",
       "      <th>2</th>\n",
       "      <td>62</td>\n",
       "      <td>0.644919</td>\n",
       "      <td>0.931508</td>\n",
       "      <td>0.821588</td>\n",
       "      <td>-0.113522</td>\n",
       "      <td>-0.145186</td>\n",
       "      <td>0.476533</td>\n",
       "      <td>0.198969</td>\n",
       "      <td>-0.180447</td>\n",
       "      <td>0.0</td>\n",
       "      <td>1.0</td>\n",
       "      <td>1</td>\n",
       "    </tr>\n",
       "    <tr>\n",
       "      <th>3</th>\n",
       "      <td>58</td>\n",
       "      <td>-0.370523</td>\n",
       "      <td>-0.387054</td>\n",
       "      <td>-0.447314</td>\n",
       "      <td>-0.365626</td>\n",
       "      <td>-0.311465</td>\n",
       "      <td>0.292120</td>\n",
       "      <td>0.324781</td>\n",
       "      <td>0.165194</td>\n",
       "      <td>0.0</td>\n",
       "      <td>1.0</td>\n",
       "      <td>1</td>\n",
       "    </tr>\n",
       "    <tr>\n",
       "      <th>4</th>\n",
       "      <td>72</td>\n",
       "      <td>0.096902</td>\n",
       "      <td>0.183135</td>\n",
       "      <td>-0.393756</td>\n",
       "      <td>-0.294379</td>\n",
       "      <td>-0.176363</td>\n",
       "      <td>0.753153</td>\n",
       "      <td>-0.933340</td>\n",
       "      <td>-1.720124</td>\n",
       "      <td>0.0</td>\n",
       "      <td>1.0</td>\n",
       "      <td>1</td>\n",
       "    </tr>\n",
       "  </tbody>\n",
       "</table>\n",
       "</div>"
      ],
      "text/plain": [
       "   Age  Total_Bilirubin  Direct_Bilirubin  Alkaline_Phosphotase  \\\n",
       "0   65        -0.418878         -0.493964             -0.426715   \n",
       "1   62         1.225171          1.430423              1.682629   \n",
       "2   62         0.644919          0.931508              0.821588   \n",
       "3   58        -0.370523         -0.387054             -0.447314   \n",
       "4   72         0.096902          0.183135             -0.393756   \n",
       "\n",
       "   Alamine_Aminotransferase  Aspartate_Aminotransferase  Total_Protiens  \\\n",
       "0                 -0.354665                   -0.318393        0.292120   \n",
       "1                 -0.091599                   -0.034333        0.937566   \n",
       "2                 -0.113522                   -0.145186        0.476533   \n",
       "3                 -0.365626                   -0.311465        0.292120   \n",
       "4                 -0.294379                   -0.176363        0.753153   \n",
       "\n",
       "    Albumin  Albumin_and_Globulin_Ratio  Gender_Female  Gender_Male  Dataset  \n",
       "0  0.198969                   -0.149025            1.0          0.0        1  \n",
       "1  0.073157                   -0.651777            0.0          1.0        1  \n",
       "2  0.198969                   -0.180447            0.0          1.0        1  \n",
       "3  0.324781                    0.165194            0.0          1.0        1  \n",
       "4 -0.933340                   -1.720124            0.0          1.0        1  "
      ]
     },
     "execution_count": 34,
     "metadata": {},
     "output_type": "execute_result"
    }
   ],
   "source": [
    "#Rearranging the DataFrame:\n",
    "\n",
    "dataset = df['Dataset'].values.reshape(-1,1)\n",
    "data.drop('Dataset',axis=1,inplace=True)\n",
    "data.insert(11,'Dataset',dataset)\n",
    "data.head()\n",
    "\n",
    "# data['Dataset'].values.reshape(-1,1)"
   ]
  },
  {
   "cell_type": "code",
   "execution_count": 35,
   "id": "d0ed54e2",
   "metadata": {},
   "outputs": [
    {
     "data": {
      "text/html": [
       "<div>\n",
       "<style scoped>\n",
       "    .dataframe tbody tr th:only-of-type {\n",
       "        vertical-align: middle;\n",
       "    }\n",
       "\n",
       "    .dataframe tbody tr th {\n",
       "        vertical-align: top;\n",
       "    }\n",
       "\n",
       "    .dataframe thead th {\n",
       "        text-align: right;\n",
       "    }\n",
       "</style>\n",
       "<table border=\"1\" class=\"dataframe\">\n",
       "  <thead>\n",
       "    <tr style=\"text-align: right;\">\n",
       "      <th></th>\n",
       "      <th>Age</th>\n",
       "      <th>Total_Bilirubin</th>\n",
       "      <th>Direct_Bilirubin</th>\n",
       "      <th>Alkaline_Phosphotase</th>\n",
       "      <th>Alamine_Aminotransferase</th>\n",
       "      <th>Aspartate_Aminotransferase</th>\n",
       "      <th>Total_Protiens</th>\n",
       "      <th>Albumin</th>\n",
       "      <th>Albumin_and_Globulin_Ratio</th>\n",
       "      <th>Gender_Female</th>\n",
       "      <th>Dataset</th>\n",
       "    </tr>\n",
       "  </thead>\n",
       "  <tbody>\n",
       "    <tr>\n",
       "      <th>0</th>\n",
       "      <td>65</td>\n",
       "      <td>-0.418878</td>\n",
       "      <td>-0.493964</td>\n",
       "      <td>-0.426715</td>\n",
       "      <td>-0.354665</td>\n",
       "      <td>-0.318393</td>\n",
       "      <td>0.292120</td>\n",
       "      <td>0.198969</td>\n",
       "      <td>-0.149025</td>\n",
       "      <td>1.0</td>\n",
       "      <td>1</td>\n",
       "    </tr>\n",
       "    <tr>\n",
       "      <th>1</th>\n",
       "      <td>62</td>\n",
       "      <td>1.225171</td>\n",
       "      <td>1.430423</td>\n",
       "      <td>1.682629</td>\n",
       "      <td>-0.091599</td>\n",
       "      <td>-0.034333</td>\n",
       "      <td>0.937566</td>\n",
       "      <td>0.073157</td>\n",
       "      <td>-0.651777</td>\n",
       "      <td>0.0</td>\n",
       "      <td>1</td>\n",
       "    </tr>\n",
       "    <tr>\n",
       "      <th>2</th>\n",
       "      <td>62</td>\n",
       "      <td>0.644919</td>\n",
       "      <td>0.931508</td>\n",
       "      <td>0.821588</td>\n",
       "      <td>-0.113522</td>\n",
       "      <td>-0.145186</td>\n",
       "      <td>0.476533</td>\n",
       "      <td>0.198969</td>\n",
       "      <td>-0.180447</td>\n",
       "      <td>0.0</td>\n",
       "      <td>1</td>\n",
       "    </tr>\n",
       "    <tr>\n",
       "      <th>3</th>\n",
       "      <td>58</td>\n",
       "      <td>-0.370523</td>\n",
       "      <td>-0.387054</td>\n",
       "      <td>-0.447314</td>\n",
       "      <td>-0.365626</td>\n",
       "      <td>-0.311465</td>\n",
       "      <td>0.292120</td>\n",
       "      <td>0.324781</td>\n",
       "      <td>0.165194</td>\n",
       "      <td>0.0</td>\n",
       "      <td>1</td>\n",
       "    </tr>\n",
       "    <tr>\n",
       "      <th>4</th>\n",
       "      <td>72</td>\n",
       "      <td>0.096902</td>\n",
       "      <td>0.183135</td>\n",
       "      <td>-0.393756</td>\n",
       "      <td>-0.294379</td>\n",
       "      <td>-0.176363</td>\n",
       "      <td>0.753153</td>\n",
       "      <td>-0.933340</td>\n",
       "      <td>-1.720124</td>\n",
       "      <td>0.0</td>\n",
       "      <td>1</td>\n",
       "    </tr>\n",
       "  </tbody>\n",
       "</table>\n",
       "</div>"
      ],
      "text/plain": [
       "   Age  Total_Bilirubin  Direct_Bilirubin  Alkaline_Phosphotase  \\\n",
       "0   65        -0.418878         -0.493964             -0.426715   \n",
       "1   62         1.225171          1.430423              1.682629   \n",
       "2   62         0.644919          0.931508              0.821588   \n",
       "3   58        -0.370523         -0.387054             -0.447314   \n",
       "4   72         0.096902          0.183135             -0.393756   \n",
       "\n",
       "   Alamine_Aminotransferase  Aspartate_Aminotransferase  Total_Protiens  \\\n",
       "0                 -0.354665                   -0.318393        0.292120   \n",
       "1                 -0.091599                   -0.034333        0.937566   \n",
       "2                 -0.113522                   -0.145186        0.476533   \n",
       "3                 -0.365626                   -0.311465        0.292120   \n",
       "4                 -0.294379                   -0.176363        0.753153   \n",
       "\n",
       "    Albumin  Albumin_and_Globulin_Ratio  Gender_Female  Dataset  \n",
       "0  0.198969                   -0.149025            1.0        1  \n",
       "1  0.073157                   -0.651777            0.0        1  \n",
       "2  0.198969                   -0.180447            0.0        1  \n",
       "3  0.324781                    0.165194            0.0        1  \n",
       "4 -0.933340                   -1.720124            0.0        1  "
      ]
     },
     "execution_count": 35,
     "metadata": {},
     "output_type": "execute_result"
    }
   ],
   "source": [
    "data.drop('Gender_Male',axis=1,inplace=True)\n",
    "data.head()"
   ]
  },
  {
   "cell_type": "code",
   "execution_count": 36,
   "id": "cc04185b",
   "metadata": {},
   "outputs": [
    {
     "data": {
      "text/plain": [
       "(583, 11)"
      ]
     },
     "execution_count": 36,
     "metadata": {},
     "output_type": "execute_result"
    }
   ],
   "source": [
    "data.shape"
   ]
  },
  {
   "cell_type": "markdown",
   "id": "d4ecbab3",
   "metadata": {},
   "source": [
    "## Splitting the DataFrame"
   ]
  },
  {
   "cell_type": "code",
   "execution_count": 37,
   "id": "972276a8",
   "metadata": {},
   "outputs": [],
   "source": [
    "ss = StratifiedShuffleSplit(n_splits=1,\n",
    "                           train_size=0.8,\n",
    "                           random_state=1)"
   ]
  },
  {
   "cell_type": "code",
   "execution_count": 38,
   "id": "80a1996e",
   "metadata": {},
   "outputs": [
    {
     "data": {
      "text/plain": [
       "<generator object BaseShuffleSplit.split at 0x00000186FB7E20B0>"
      ]
     },
     "execution_count": 38,
     "metadata": {},
     "output_type": "execute_result"
    }
   ],
   "source": [
    "X = data.drop('Dataset',axis=1)\n",
    "y = data['Dataset']\n",
    "ss.split(X,y)"
   ]
  },
  {
   "cell_type": "code",
   "execution_count": 39,
   "id": "1a93a9e5",
   "metadata": {},
   "outputs": [],
   "source": [
    "for train_index, test_index in ss.split(X,y):\n",
    "    train_df = data.iloc[train_index]\n",
    "    test_df = data.iloc[test_index]"
   ]
  },
  {
   "cell_type": "code",
   "execution_count": 40,
   "id": "a602d91d",
   "metadata": {},
   "outputs": [
    {
     "data": {
      "text/html": [
       "<div>\n",
       "<style scoped>\n",
       "    .dataframe tbody tr th:only-of-type {\n",
       "        vertical-align: middle;\n",
       "    }\n",
       "\n",
       "    .dataframe tbody tr th {\n",
       "        vertical-align: top;\n",
       "    }\n",
       "\n",
       "    .dataframe thead th {\n",
       "        text-align: right;\n",
       "    }\n",
       "</style>\n",
       "<table border=\"1\" class=\"dataframe\">\n",
       "  <thead>\n",
       "    <tr style=\"text-align: right;\">\n",
       "      <th></th>\n",
       "      <th>Age</th>\n",
       "      <th>Total_Bilirubin</th>\n",
       "      <th>Direct_Bilirubin</th>\n",
       "      <th>Alkaline_Phosphotase</th>\n",
       "      <th>Alamine_Aminotransferase</th>\n",
       "      <th>Aspartate_Aminotransferase</th>\n",
       "      <th>Total_Protiens</th>\n",
       "      <th>Albumin</th>\n",
       "      <th>Albumin_and_Globulin_Ratio</th>\n",
       "      <th>Gender_Female</th>\n",
       "    </tr>\n",
       "  </thead>\n",
       "  <tbody>\n",
       "    <tr>\n",
       "      <th>0</th>\n",
       "      <td>65</td>\n",
       "      <td>-0.418878</td>\n",
       "      <td>-0.493964</td>\n",
       "      <td>-0.426715</td>\n",
       "      <td>-0.354665</td>\n",
       "      <td>-0.318393</td>\n",
       "      <td>0.292120</td>\n",
       "      <td>0.198969</td>\n",
       "      <td>-0.149025</td>\n",
       "      <td>1.0</td>\n",
       "    </tr>\n",
       "    <tr>\n",
       "      <th>1</th>\n",
       "      <td>62</td>\n",
       "      <td>1.225171</td>\n",
       "      <td>1.430423</td>\n",
       "      <td>1.682629</td>\n",
       "      <td>-0.091599</td>\n",
       "      <td>-0.034333</td>\n",
       "      <td>0.937566</td>\n",
       "      <td>0.073157</td>\n",
       "      <td>-0.651777</td>\n",
       "      <td>0.0</td>\n",
       "    </tr>\n",
       "    <tr>\n",
       "      <th>2</th>\n",
       "      <td>62</td>\n",
       "      <td>0.644919</td>\n",
       "      <td>0.931508</td>\n",
       "      <td>0.821588</td>\n",
       "      <td>-0.113522</td>\n",
       "      <td>-0.145186</td>\n",
       "      <td>0.476533</td>\n",
       "      <td>0.198969</td>\n",
       "      <td>-0.180447</td>\n",
       "      <td>0.0</td>\n",
       "    </tr>\n",
       "    <tr>\n",
       "      <th>3</th>\n",
       "      <td>58</td>\n",
       "      <td>-0.370523</td>\n",
       "      <td>-0.387054</td>\n",
       "      <td>-0.447314</td>\n",
       "      <td>-0.365626</td>\n",
       "      <td>-0.311465</td>\n",
       "      <td>0.292120</td>\n",
       "      <td>0.324781</td>\n",
       "      <td>0.165194</td>\n",
       "      <td>0.0</td>\n",
       "    </tr>\n",
       "    <tr>\n",
       "      <th>4</th>\n",
       "      <td>72</td>\n",
       "      <td>0.096902</td>\n",
       "      <td>0.183135</td>\n",
       "      <td>-0.393756</td>\n",
       "      <td>-0.294379</td>\n",
       "      <td>-0.176363</td>\n",
       "      <td>0.753153</td>\n",
       "      <td>-0.933340</td>\n",
       "      <td>-1.720124</td>\n",
       "      <td>0.0</td>\n",
       "    </tr>\n",
       "  </tbody>\n",
       "</table>\n",
       "</div>"
      ],
      "text/plain": [
       "   Age  Total_Bilirubin  Direct_Bilirubin  Alkaline_Phosphotase  \\\n",
       "0   65        -0.418878         -0.493964             -0.426715   \n",
       "1   62         1.225171          1.430423              1.682629   \n",
       "2   62         0.644919          0.931508              0.821588   \n",
       "3   58        -0.370523         -0.387054             -0.447314   \n",
       "4   72         0.096902          0.183135             -0.393756   \n",
       "\n",
       "   Alamine_Aminotransferase  Aspartate_Aminotransferase  Total_Protiens  \\\n",
       "0                 -0.354665                   -0.318393        0.292120   \n",
       "1                 -0.091599                   -0.034333        0.937566   \n",
       "2                 -0.113522                   -0.145186        0.476533   \n",
       "3                 -0.365626                   -0.311465        0.292120   \n",
       "4                 -0.294379                   -0.176363        0.753153   \n",
       "\n",
       "    Albumin  Albumin_and_Globulin_Ratio  Gender_Female  \n",
       "0  0.198969                   -0.149025            1.0  \n",
       "1  0.073157                   -0.651777            0.0  \n",
       "2  0.198969                   -0.180447            0.0  \n",
       "3  0.324781                    0.165194            0.0  \n",
       "4 -0.933340                   -1.720124            0.0  "
      ]
     },
     "execution_count": 40,
     "metadata": {},
     "output_type": "execute_result"
    }
   ],
   "source": [
    "X.head()"
   ]
  },
  {
   "cell_type": "code",
   "execution_count": 41,
   "id": "43fc6a9b",
   "metadata": {},
   "outputs": [],
   "source": [
    "# data.iloc[train_index]\n",
    "# train_index"
   ]
  },
  {
   "cell_type": "code",
   "execution_count": 42,
   "id": "eb265fd9",
   "metadata": {},
   "outputs": [
    {
     "data": {
      "text/plain": [
       "((466, 11), (117, 11))"
      ]
     },
     "execution_count": 42,
     "metadata": {},
     "output_type": "execute_result"
    }
   ],
   "source": [
    "train_df.shape,test_df.shape"
   ]
  },
  {
   "cell_type": "code",
   "execution_count": 43,
   "id": "bd706c3b",
   "metadata": {},
   "outputs": [
    {
     "name": "stdout",
     "output_type": "stream",
     "text": [
      "Liver Disease  71.36 % of data.\n",
      "Non-Liver Disease  28.64 % of data.\n",
      "\n",
      "Liver Disease:  416\n",
      "Non-Liver Disease:  167\n"
     ]
    }
   ],
   "source": [
    "print('Liver Disease ',round(data['Dataset'].value_counts()[1]/len(data)*100,2),'% of data.')\n",
    "print('Non-Liver Disease ',round(data['Dataset'].value_counts()[2]/len(data)*100,2),'% of data.')\n",
    "print('\\nLiver Disease: ',data['Dataset'].value_counts()[1])\n",
    "print('Non-Liver Disease: ',data['Dataset'].value_counts()[2])"
   ]
  },
  {
   "cell_type": "code",
   "execution_count": 44,
   "id": "1d21bdc4",
   "metadata": {},
   "outputs": [
    {
     "name": "stdout",
     "output_type": "stream",
     "text": [
      "Distributions: \n",
      "\n",
      "Train Set\n",
      "1    333\n",
      "2    133\n",
      "Name: Dataset, dtype: int64\n",
      "\n",
      "Test Set\n",
      "1    83\n",
      "2    34\n",
      "Name: Dataset, dtype: int64\n",
      "\n",
      "Percentage:\n",
      "\n",
      "Train Set\n",
      "1    71.459227\n",
      "2    28.540773\n",
      "Name: Dataset, dtype: float64\n",
      "\n",
      "Test Set\n",
      "1    70.940171\n",
      "2    29.059829\n",
      "Name: Dataset, dtype: float64\n"
     ]
    }
   ],
   "source": [
    "print('Distributions: \\n')\n",
    "print(\"Train Set\")\n",
    "print(train_df.Dataset.value_counts())\n",
    "print(\"\\nTest Set\")\n",
    "print(test_df.Dataset.value_counts())\n",
    "print(\"\\nPercentage:\")\n",
    "print(\"\\nTrain Set\")\n",
    "print((train_df.Dataset.value_counts()/ len(train_df))*100)\n",
    "print(\"\\nTest Set\")\n",
    "print((test_df.Dataset.value_counts()/ len(test_df))*100)"
   ]
  },
  {
   "cell_type": "markdown",
   "id": "6d5131f4",
   "metadata": {},
   "source": [
    "*Here we can see that our Training Data and Testing Data have been split in almost the same proportions and are similar in propotions to the Original Dataset. Now we can perform Under-Sampling or Over-Sampling.*"
   ]
  },
  {
   "cell_type": "markdown",
   "id": "8087e2c4",
   "metadata": {},
   "source": [
    "# Ramdom UnderSampling"
   ]
  },
  {
   "cell_type": "code",
   "execution_count": 45,
   "id": "7b87edd8",
   "metadata": {},
   "outputs": [],
   "source": [
    "#Shuffling the Data before creating Subsamples:\n",
    "\n",
    "train_df = train_df.sample(frac=1)"
   ]
  },
  {
   "cell_type": "code",
   "execution_count": 46,
   "id": "cdf58676",
   "metadata": {},
   "outputs": [],
   "source": [
    "LivDis = train_df.loc[train_df['Dataset']==1][:133]\n",
    "NonLivDis = train_df.loc[train_df['Dataset']==2]"
   ]
  },
  {
   "cell_type": "code",
   "execution_count": 47,
   "id": "cb1e8931",
   "metadata": {},
   "outputs": [],
   "source": [
    "# LivDis"
   ]
  },
  {
   "cell_type": "code",
   "execution_count": 48,
   "id": "92e7b2f5",
   "metadata": {},
   "outputs": [
    {
     "data": {
      "text/plain": [
       "((133, 11), (133, 11))"
      ]
     },
     "execution_count": 48,
     "metadata": {},
     "output_type": "execute_result"
    }
   ],
   "source": [
    "LivDis.shape,NonLivDis.shape"
   ]
  },
  {
   "cell_type": "code",
   "execution_count": 49,
   "id": "d97aedd6",
   "metadata": {},
   "outputs": [
    {
     "data": {
      "text/html": [
       "<div>\n",
       "<style scoped>\n",
       "    .dataframe tbody tr th:only-of-type {\n",
       "        vertical-align: middle;\n",
       "    }\n",
       "\n",
       "    .dataframe tbody tr th {\n",
       "        vertical-align: top;\n",
       "    }\n",
       "\n",
       "    .dataframe thead th {\n",
       "        text-align: right;\n",
       "    }\n",
       "</style>\n",
       "<table border=\"1\" class=\"dataframe\">\n",
       "  <thead>\n",
       "    <tr style=\"text-align: right;\">\n",
       "      <th></th>\n",
       "      <th>Age</th>\n",
       "      <th>Total_Bilirubin</th>\n",
       "      <th>Direct_Bilirubin</th>\n",
       "      <th>Alkaline_Phosphotase</th>\n",
       "      <th>Alamine_Aminotransferase</th>\n",
       "      <th>Aspartate_Aminotransferase</th>\n",
       "      <th>Total_Protiens</th>\n",
       "      <th>Albumin</th>\n",
       "      <th>Albumin_and_Globulin_Ratio</th>\n",
       "      <th>Gender_Female</th>\n",
       "      <th>Dataset</th>\n",
       "    </tr>\n",
       "  </thead>\n",
       "  <tbody>\n",
       "    <tr>\n",
       "      <th>419</th>\n",
       "      <td>55</td>\n",
       "      <td>0.789982</td>\n",
       "      <td>0.860235</td>\n",
       "      <td>4.364626</td>\n",
       "      <td>-0.157366</td>\n",
       "      <td>-0.155578</td>\n",
       "      <td>0.199913</td>\n",
       "      <td>-0.304280</td>\n",
       "      <td>-0.777465</td>\n",
       "      <td>1.0</td>\n",
       "      <td>1</td>\n",
       "    </tr>\n",
       "    <tr>\n",
       "      <th>525</th>\n",
       "      <td>53</td>\n",
       "      <td>-0.386642</td>\n",
       "      <td>-0.458327</td>\n",
       "      <td>-0.331959</td>\n",
       "      <td>-0.250535</td>\n",
       "      <td>-0.269895</td>\n",
       "      <td>1.398600</td>\n",
       "      <td>0.953841</td>\n",
       "      <td>-0.149025</td>\n",
       "      <td>1.0</td>\n",
       "      <td>2</td>\n",
       "    </tr>\n",
       "    <tr>\n",
       "      <th>214</th>\n",
       "      <td>38</td>\n",
       "      <td>-0.257697</td>\n",
       "      <td>-0.173233</td>\n",
       "      <td>-0.455554</td>\n",
       "      <td>-0.343704</td>\n",
       "      <td>-0.262967</td>\n",
       "      <td>0.660946</td>\n",
       "      <td>0.576405</td>\n",
       "      <td>0.165194</td>\n",
       "      <td>0.0</td>\n",
       "      <td>1</td>\n",
       "    </tr>\n",
       "    <tr>\n",
       "      <th>264</th>\n",
       "      <td>38</td>\n",
       "      <td>-0.402760</td>\n",
       "      <td>-0.458327</td>\n",
       "      <td>-0.179526</td>\n",
       "      <td>-0.140924</td>\n",
       "      <td>-0.062046</td>\n",
       "      <td>0.845360</td>\n",
       "      <td>1.457089</td>\n",
       "      <td>1.359229</td>\n",
       "      <td>0.0</td>\n",
       "      <td>2</td>\n",
       "    </tr>\n",
       "    <tr>\n",
       "      <th>271</th>\n",
       "      <td>4</td>\n",
       "      <td>-0.402760</td>\n",
       "      <td>-0.458327</td>\n",
       "      <td>0.697994</td>\n",
       "      <td>0.390688</td>\n",
       "      <td>0.419472</td>\n",
       "      <td>0.015500</td>\n",
       "      <td>0.073157</td>\n",
       "      <td>-0.149025</td>\n",
       "      <td>0.0</td>\n",
       "      <td>2</td>\n",
       "    </tr>\n",
       "    <tr>\n",
       "      <th>506</th>\n",
       "      <td>56</td>\n",
       "      <td>2.321204</td>\n",
       "      <td>2.606438</td>\n",
       "      <td>-0.212485</td>\n",
       "      <td>-0.206691</td>\n",
       "      <td>0.260121</td>\n",
       "      <td>-0.814361</td>\n",
       "      <td>-0.933340</td>\n",
       "      <td>-0.777465</td>\n",
       "      <td>0.0</td>\n",
       "      <td>1</td>\n",
       "    </tr>\n",
       "    <tr>\n",
       "      <th>493</th>\n",
       "      <td>65</td>\n",
       "      <td>-0.418878</td>\n",
       "      <td>-0.458327</td>\n",
       "      <td>-0.105370</td>\n",
       "      <td>-0.277938</td>\n",
       "      <td>-0.283752</td>\n",
       "      <td>-1.183187</td>\n",
       "      <td>-1.688212</td>\n",
       "      <td>-1.343060</td>\n",
       "      <td>0.0</td>\n",
       "      <td>2</td>\n",
       "    </tr>\n",
       "    <tr>\n",
       "      <th>56</th>\n",
       "      <td>33</td>\n",
       "      <td>-0.402760</td>\n",
       "      <td>-0.458327</td>\n",
       "      <td>-0.381397</td>\n",
       "      <td>-0.299860</td>\n",
       "      <td>-0.301073</td>\n",
       "      <td>1.398600</td>\n",
       "      <td>1.079653</td>\n",
       "      <td>0.165194</td>\n",
       "      <td>0.0</td>\n",
       "      <td>2</td>\n",
       "    </tr>\n",
       "    <tr>\n",
       "      <th>291</th>\n",
       "      <td>60</td>\n",
       "      <td>-0.418878</td>\n",
       "      <td>-0.458327</td>\n",
       "      <td>-0.480273</td>\n",
       "      <td>-0.266977</td>\n",
       "      <td>-0.332250</td>\n",
       "      <td>1.214186</td>\n",
       "      <td>1.331277</td>\n",
       "      <td>0.479414</td>\n",
       "      <td>0.0</td>\n",
       "      <td>2</td>\n",
       "    </tr>\n",
       "    <tr>\n",
       "      <th>69</th>\n",
       "      <td>60</td>\n",
       "      <td>-0.402760</td>\n",
       "      <td>-0.458327</td>\n",
       "      <td>-0.311360</td>\n",
       "      <td>-0.310821</td>\n",
       "      <td>-0.321857</td>\n",
       "      <td>-0.168914</td>\n",
       "      <td>-0.178468</td>\n",
       "      <td>-0.149025</td>\n",
       "      <td>0.0</td>\n",
       "      <td>2</td>\n",
       "    </tr>\n",
       "  </tbody>\n",
       "</table>\n",
       "</div>"
      ],
      "text/plain": [
       "     Age  Total_Bilirubin  Direct_Bilirubin  Alkaline_Phosphotase  \\\n",
       "419   55         0.789982          0.860235              4.364626   \n",
       "525   53        -0.386642         -0.458327             -0.331959   \n",
       "214   38        -0.257697         -0.173233             -0.455554   \n",
       "264   38        -0.402760         -0.458327             -0.179526   \n",
       "271    4        -0.402760         -0.458327              0.697994   \n",
       "506   56         2.321204          2.606438             -0.212485   \n",
       "493   65        -0.418878         -0.458327             -0.105370   \n",
       "56    33        -0.402760         -0.458327             -0.381397   \n",
       "291   60        -0.418878         -0.458327             -0.480273   \n",
       "69    60        -0.402760         -0.458327             -0.311360   \n",
       "\n",
       "     Alamine_Aminotransferase  Aspartate_Aminotransferase  Total_Protiens  \\\n",
       "419                 -0.157366                   -0.155578        0.199913   \n",
       "525                 -0.250535                   -0.269895        1.398600   \n",
       "214                 -0.343704                   -0.262967        0.660946   \n",
       "264                 -0.140924                   -0.062046        0.845360   \n",
       "271                  0.390688                    0.419472        0.015500   \n",
       "506                 -0.206691                    0.260121       -0.814361   \n",
       "493                 -0.277938                   -0.283752       -1.183187   \n",
       "56                  -0.299860                   -0.301073        1.398600   \n",
       "291                 -0.266977                   -0.332250        1.214186   \n",
       "69                  -0.310821                   -0.321857       -0.168914   \n",
       "\n",
       "      Albumin  Albumin_and_Globulin_Ratio  Gender_Female  Dataset  \n",
       "419 -0.304280                   -0.777465            1.0        1  \n",
       "525  0.953841                   -0.149025            1.0        2  \n",
       "214  0.576405                    0.165194            0.0        1  \n",
       "264  1.457089                    1.359229            0.0        2  \n",
       "271  0.073157                   -0.149025            0.0        2  \n",
       "506 -0.933340                   -0.777465            0.0        1  \n",
       "493 -1.688212                   -1.343060            0.0        2  \n",
       "56   1.079653                    0.165194            0.0        2  \n",
       "291  1.331277                    0.479414            0.0        2  \n",
       "69  -0.178468                   -0.149025            0.0        2  "
      ]
     },
     "execution_count": 49,
     "metadata": {},
     "output_type": "execute_result"
    }
   ],
   "source": [
    "NormalDistributedData = pd.concat([LivDis,NonLivDis])\n",
    "NormalDistributedData=NormalDistributedData.sample(frac=1)\n",
    "NormData = NormalDistributedData\n",
    "NormalDistributedData.head(10)"
   ]
  },
  {
   "cell_type": "code",
   "execution_count": 50,
   "id": "6b9ee532",
   "metadata": {},
   "outputs": [
    {
     "data": {
      "text/plain": [
       "(266, 11)"
      ]
     },
     "execution_count": 50,
     "metadata": {},
     "output_type": "execute_result"
    }
   ],
   "source": [
    "NormalDistributedData.shape"
   ]
  },
  {
   "cell_type": "code",
   "execution_count": null,
   "id": "d9ae59e8",
   "metadata": {},
   "outputs": [],
   "source": []
  },
  {
   "cell_type": "code",
   "execution_count": 51,
   "id": "45325749",
   "metadata": {},
   "outputs": [
    {
     "data": {
      "text/plain": [
       "<AxesSubplot:>"
      ]
     },
     "execution_count": 51,
     "metadata": {},
     "output_type": "execute_result"
    },
    {
     "data": {
      "image/png": "[encoded data removed]",
      "text/plain": [
       "<Figure size 576x576 with 2 Axes>"
      ]
     },
     "metadata": {
      "needs_background": "light"
     },
     "output_type": "display_data"
    }
   ],
   "source": [
    "fig,ax = plt.subplots(figsize=(8,8))\n",
    "\n",
    "sns.heatmap(NormData.corr(), annot=True)"
   ]
  },
  {
   "cell_type": "code",
   "execution_count": 52,
   "id": "ba6aadd7",
   "metadata": {},
   "outputs": [],
   "source": [
    "# Finding columns with specific correlation:\n",
    "\n",
    "def correlation(dataset,threshold):\n",
    "    columns_corr = set() #taking set to avoid repeated values\n",
    "    corr_matrix = dataset.corr()\n",
    "    for i in range(len(corr_matrix.columns)):\n",
    "        for j in range(i):\n",
    "            if corr_matrix.iloc[i,j] > threshold:\n",
    "                colname = corr_matrix.columns[i]\n",
    "                columns_corr.add(colname)\n",
    "    return columns_corr"
   ]
  },
  {
   "cell_type": "code",
   "execution_count": 53,
   "id": "05016589",
   "metadata": {},
   "outputs": [
    {
     "data": {
      "text/plain": [
       "['Albumin_and_Globulin_Ratio',\n",
       " 'Aspartate_Aminotransferase',\n",
       " 'Albumin',\n",
       " 'Direct_Bilirubin']"
      ]
     },
     "execution_count": 53,
     "metadata": {},
     "output_type": "execute_result"
    }
   ],
   "source": [
    "# attributes with correlation more than 0.50\n",
    "\n",
    "list(correlation(NormData,0.5))"
   ]
  },
  {
   "cell_type": "code",
   "execution_count": 54,
   "id": "54ae8e96",
   "metadata": {},
   "outputs": [
    {
     "data": {
      "text/plain": [
       "(266, 11)"
      ]
     },
     "execution_count": 54,
     "metadata": {},
     "output_type": "execute_result"
    }
   ],
   "source": [
    "NormalDistributedData.shape"
   ]
  },
  {
   "cell_type": "code",
   "execution_count": 55,
   "id": "39b394b8",
   "metadata": {},
   "outputs": [
    {
     "data": {
      "text/plain": [
       "Text(0.5, 1.0, 'Frequency distribution of Dataset')"
      ]
     },
     "execution_count": 55,
     "metadata": {},
     "output_type": "execute_result"
    },
    {
     "data": {
      "image/png": "[encoded data removed]",
      "text/plain": [
       "<Figure size 432x288 with 1 Axes>"
      ]
     },
     "metadata": {
      "needs_background": "light"
     },
     "output_type": "display_data"
    }
   ],
   "source": [
    "f, ax = plt.subplots(figsize=(6, 4))\n",
    "ax = sns.countplot(x=\"Dataset\", data=NormData, palette=\"Set3\")\n",
    "ax.set_title(\"Frequency distribution of Dataset\")\n"
   ]
  },
  {
   "cell_type": "code",
   "execution_count": 56,
   "id": "1fceec85",
   "metadata": {},
   "outputs": [
    {
     "data": {
      "text/plain": [
       "{'Albumin',\n",
       " 'Albumin_and_Globulin_Ratio',\n",
       " 'Aspartate_Aminotransferase',\n",
       " 'Direct_Bilirubin'}"
      ]
     },
     "execution_count": 56,
     "metadata": {},
     "output_type": "execute_result"
    }
   ],
   "source": [
    "correlation(NormData,0.7)"
   ]
  },
  {
   "cell_type": "markdown",
   "id": "81907562",
   "metadata": {},
   "source": [
    "*Now we have a balanced DataFrame with UnderSampling, we can begin training our ML Model*"
   ]
  },
  {
   "cell_type": "code",
   "execution_count": 57,
   "id": "56a5b828",
   "metadata": {},
   "outputs": [],
   "source": [
    "#Dropping Columns with Correlation equal to or higher than 0.7\n",
    "\n",
    "Xtrain = NormData.drop(['Dataset','Albumin', 'Aspartate_Aminotransferase', 'Direct_Bilirubin'],axis=1)\n",
    "ytrain = NormData['Dataset']\n",
    "\n",
    "Xtest = test_df.drop(['Dataset','Albumin', 'Aspartate_Aminotransferase', 'Direct_Bilirubin'],axis=1)\n",
    "ytest = test_df['Dataset']"
   ]
  },
  {
   "cell_type": "code",
   "execution_count": 58,
   "id": "2acefb75",
   "metadata": {},
   "outputs": [
    {
     "data": {
      "text/html": [
       "<div>\n",
       "<style scoped>\n",
       "    .dataframe tbody tr th:only-of-type {\n",
       "        vertical-align: middle;\n",
       "    }\n",
       "\n",
       "    .dataframe tbody tr th {\n",
       "        vertical-align: top;\n",
       "    }\n",
       "\n",
       "    .dataframe thead th {\n",
       "        text-align: right;\n",
       "    }\n",
       "</style>\n",
       "<table border=\"1\" class=\"dataframe\">\n",
       "  <thead>\n",
       "    <tr style=\"text-align: right;\">\n",
       "      <th></th>\n",
       "      <th>Age</th>\n",
       "      <th>Total_Bilirubin</th>\n",
       "      <th>Alkaline_Phosphotase</th>\n",
       "      <th>Alamine_Aminotransferase</th>\n",
       "      <th>Total_Protiens</th>\n",
       "      <th>Albumin_and_Globulin_Ratio</th>\n",
       "      <th>Gender_Female</th>\n",
       "    </tr>\n",
       "  </thead>\n",
       "  <tbody>\n",
       "    <tr>\n",
       "      <th>419</th>\n",
       "      <td>55</td>\n",
       "      <td>0.789982</td>\n",
       "      <td>4.364626</td>\n",
       "      <td>-0.157366</td>\n",
       "      <td>0.199913</td>\n",
       "      <td>-0.777465</td>\n",
       "      <td>1.0</td>\n",
       "    </tr>\n",
       "    <tr>\n",
       "      <th>525</th>\n",
       "      <td>53</td>\n",
       "      <td>-0.386642</td>\n",
       "      <td>-0.331959</td>\n",
       "      <td>-0.250535</td>\n",
       "      <td>1.398600</td>\n",
       "      <td>-0.149025</td>\n",
       "      <td>1.0</td>\n",
       "    </tr>\n",
       "    <tr>\n",
       "      <th>214</th>\n",
       "      <td>38</td>\n",
       "      <td>-0.257697</td>\n",
       "      <td>-0.455554</td>\n",
       "      <td>-0.343704</td>\n",
       "      <td>0.660946</td>\n",
       "      <td>0.165194</td>\n",
       "      <td>0.0</td>\n",
       "    </tr>\n",
       "    <tr>\n",
       "      <th>264</th>\n",
       "      <td>38</td>\n",
       "      <td>-0.402760</td>\n",
       "      <td>-0.179526</td>\n",
       "      <td>-0.140924</td>\n",
       "      <td>0.845360</td>\n",
       "      <td>1.359229</td>\n",
       "      <td>0.0</td>\n",
       "    </tr>\n",
       "    <tr>\n",
       "      <th>271</th>\n",
       "      <td>4</td>\n",
       "      <td>-0.402760</td>\n",
       "      <td>0.697994</td>\n",
       "      <td>0.390688</td>\n",
       "      <td>0.015500</td>\n",
       "      <td>-0.149025</td>\n",
       "      <td>0.0</td>\n",
       "    </tr>\n",
       "  </tbody>\n",
       "</table>\n",
       "</div>"
      ],
      "text/plain": [
       "     Age  Total_Bilirubin  Alkaline_Phosphotase  Alamine_Aminotransferase  \\\n",
       "419   55         0.789982              4.364626                 -0.157366   \n",
       "525   53        -0.386642             -0.331959                 -0.250535   \n",
       "214   38        -0.257697             -0.455554                 -0.343704   \n",
       "264   38        -0.402760             -0.179526                 -0.140924   \n",
       "271    4        -0.402760              0.697994                  0.390688   \n",
       "\n",
       "     Total_Protiens  Albumin_and_Globulin_Ratio  Gender_Female  \n",
       "419        0.199913                   -0.777465            1.0  \n",
       "525        1.398600                   -0.149025            1.0  \n",
       "214        0.660946                    0.165194            0.0  \n",
       "264        0.845360                    1.359229            0.0  \n",
       "271        0.015500                   -0.149025            0.0  "
      ]
     },
     "execution_count": 58,
     "metadata": {},
     "output_type": "execute_result"
    }
   ],
   "source": [
    "Xtrain.head()\n"
   ]
  },
  {
   "cell_type": "code",
   "execution_count": 59,
   "id": "1ec35cb1",
   "metadata": {},
   "outputs": [
    {
     "data": {
      "text/html": [
       "<div>\n",
       "<style scoped>\n",
       "    .dataframe tbody tr th:only-of-type {\n",
       "        vertical-align: middle;\n",
       "    }\n",
       "\n",
       "    .dataframe tbody tr th {\n",
       "        vertical-align: top;\n",
       "    }\n",
       "\n",
       "    .dataframe thead th {\n",
       "        text-align: right;\n",
       "    }\n",
       "</style>\n",
       "<table border=\"1\" class=\"dataframe\">\n",
       "  <thead>\n",
       "    <tr style=\"text-align: right;\">\n",
       "      <th></th>\n",
       "      <th>Age</th>\n",
       "      <th>Total_Bilirubin</th>\n",
       "      <th>Alkaline_Phosphotase</th>\n",
       "      <th>Alamine_Aminotransferase</th>\n",
       "      <th>Total_Protiens</th>\n",
       "      <th>Albumin_and_Globulin_Ratio</th>\n",
       "      <th>Gender_Female</th>\n",
       "    </tr>\n",
       "  </thead>\n",
       "  <tbody>\n",
       "    <tr>\n",
       "      <th>94</th>\n",
       "      <td>60</td>\n",
       "      <td>0.306438</td>\n",
       "      <td>-0.504991</td>\n",
       "      <td>0.248194</td>\n",
       "      <td>0.292120</td>\n",
       "      <td>-0.777465</td>\n",
       "      <td>0.0</td>\n",
       "    </tr>\n",
       "    <tr>\n",
       "      <th>411</th>\n",
       "      <td>23</td>\n",
       "      <td>-0.160988</td>\n",
       "      <td>0.899864</td>\n",
       "      <td>-0.288899</td>\n",
       "      <td>0.384326</td>\n",
       "      <td>-0.777465</td>\n",
       "      <td>1.0</td>\n",
       "    </tr>\n",
       "    <tr>\n",
       "      <th>218</th>\n",
       "      <td>6</td>\n",
       "      <td>-0.434996</td>\n",
       "      <td>-0.006494</td>\n",
       "      <td>-0.234093</td>\n",
       "      <td>-1.552014</td>\n",
       "      <td>-0.777465</td>\n",
       "      <td>0.0</td>\n",
       "    </tr>\n",
       "    <tr>\n",
       "      <th>99</th>\n",
       "      <td>18</td>\n",
       "      <td>-0.418878</td>\n",
       "      <td>0.088261</td>\n",
       "      <td>1.245653</td>\n",
       "      <td>0.384326</td>\n",
       "      <td>0.479414</td>\n",
       "      <td>0.0</td>\n",
       "    </tr>\n",
       "    <tr>\n",
       "      <th>118</th>\n",
       "      <td>32</td>\n",
       "      <td>2.031078</td>\n",
       "      <td>-0.043572</td>\n",
       "      <td>6.956379</td>\n",
       "      <td>-0.814361</td>\n",
       "      <td>0.165194</td>\n",
       "      <td>0.0</td>\n",
       "    </tr>\n",
       "  </tbody>\n",
       "</table>\n",
       "</div>"
      ],
      "text/plain": [
       "     Age  Total_Bilirubin  Alkaline_Phosphotase  Alamine_Aminotransferase  \\\n",
       "94    60         0.306438             -0.504991                  0.248194   \n",
       "411   23        -0.160988              0.899864                 -0.288899   \n",
       "218    6        -0.434996             -0.006494                 -0.234093   \n",
       "99    18        -0.418878              0.088261                  1.245653   \n",
       "118   32         2.031078             -0.043572                  6.956379   \n",
       "\n",
       "     Total_Protiens  Albumin_and_Globulin_Ratio  Gender_Female  \n",
       "94         0.292120                   -0.777465            0.0  \n",
       "411        0.384326                   -0.777465            1.0  \n",
       "218       -1.552014                   -0.777465            0.0  \n",
       "99         0.384326                    0.479414            0.0  \n",
       "118       -0.814361                    0.165194            0.0  "
      ]
     },
     "execution_count": 59,
     "metadata": {},
     "output_type": "execute_result"
    }
   ],
   "source": [
    "Xtest.head()"
   ]
  },
  {
   "cell_type": "markdown",
   "id": "4e409e29",
   "metadata": {},
   "source": [
    "##  Decision Tree"
   ]
  },
  {
   "cell_type": "code",
   "execution_count": 60,
   "id": "e85dc056",
   "metadata": {},
   "outputs": [],
   "source": [
    "from sklearn.tree import DecisionTreeClassifier"
   ]
  },
  {
   "cell_type": "code",
   "execution_count": 61,
   "id": "01f1aa76",
   "metadata": {},
   "outputs": [
    {
     "data": {
      "text/plain": [
       "DecisionTreeClassifier(criterion='entropy')"
      ]
     },
     "execution_count": 61,
     "metadata": {},
     "output_type": "execute_result"
    }
   ],
   "source": [
    "#using Entropy:\n",
    "\n",
    "\n",
    "DTclf_ent = DecisionTreeClassifier(criterion='entropy')\n",
    "DTclf_ent.fit(Xtrain,ytrain)"
   ]
  },
  {
   "cell_type": "code",
   "execution_count": 62,
   "id": "f8c48cae",
   "metadata": {},
   "outputs": [],
   "source": [
    "pred_ent = DTclf_ent.predict(Xtest)\n",
    "# pred_ent"
   ]
  },
  {
   "cell_type": "code",
   "execution_count": 63,
   "id": "ef65736a",
   "metadata": {},
   "outputs": [
    {
     "name": "stdout",
     "output_type": "stream",
     "text": [
      "              precision    recall  f1-score   support\n",
      "\n",
      "           1       0.79      0.69      0.74        83\n",
      "           2       0.42      0.56      0.48        34\n",
      "\n",
      "    accuracy                           0.65       117\n",
      "   macro avg       0.61      0.62      0.61       117\n",
      "weighted avg       0.68      0.65      0.66       117\n",
      "\n",
      "[[57 26]\n",
      " [15 19]]\n",
      "64.95726495726495\n"
     ]
    }
   ],
   "source": [
    "print(classification_report(ytest,pred_ent))\n",
    "print(confusion_matrix(ytest,pred_ent))\n",
    "print(accuracy_score(ytest,pred_ent)*100)"
   ]
  },
  {
   "cell_type": "code",
   "execution_count": 64,
   "id": "86be2ae4",
   "metadata": {},
   "outputs": [
    {
     "data": {
      "text/plain": [
       "<sklearn.metrics._plot.confusion_matrix.ConfusionMatrixDisplay at 0x186fb928640>"
      ]
     },
     "execution_count": 64,
     "metadata": {},
     "output_type": "execute_result"
    },
    {
     "data": {
      "image/png": "[encoded data removed]",
      "text/plain": [
       "<Figure size 432x288 with 2 Axes>"
      ]
     },
     "metadata": {
      "needs_background": "light"
     },
     "output_type": "display_data"
    }
   ],
   "source": [
    "from sklearn.metrics import plot_confusion_matrix,ConfusionMatrixDisplay\n",
    "\n",
    "ConfusionMatrixDisplay(confusion_matrix(ytest,pred_ent)).plot(cmap='YlGnBu')"
   ]
  },
  {
   "cell_type": "code",
   "execution_count": 65,
   "id": "86a28211",
   "metadata": {},
   "outputs": [],
   "source": [
    "#using Gini:\n",
    "\n",
    "DTclf_gini = DecisionTreeClassifier(criterion='gini')\n",
    "DTclf_gini.fit(Xtrain,ytrain)\n",
    "\n",
    "pred_gini = DTclf_gini.predict(Xtest)\n",
    "# pred_gini"
   ]
  },
  {
   "cell_type": "code",
   "execution_count": 66,
   "id": "c2f00488",
   "metadata": {},
   "outputs": [
    {
     "name": "stdout",
     "output_type": "stream",
     "text": [
      "              precision    recall  f1-score   support\n",
      "\n",
      "           1       0.75      0.65      0.70        83\n",
      "           2       0.36      0.47      0.41        34\n",
      "\n",
      "    accuracy                           0.60       117\n",
      "   macro avg       0.55      0.56      0.55       117\n",
      "weighted avg       0.64      0.60      0.61       117\n",
      "\n",
      "[[54 29]\n",
      " [18 16]]\n",
      "59.82905982905983\n"
     ]
    }
   ],
   "source": [
    "print(classification_report(ytest,pred_gini))\n",
    "print(confusion_matrix(ytest,pred_gini))\n",
    "print(accuracy_score(ytest,pred_gini)*100)"
   ]
  },
  {
   "cell_type": "code",
   "execution_count": 67,
   "id": "3d498270",
   "metadata": {},
   "outputs": [
    {
     "data": {
      "text/plain": [
       "<sklearn.metrics._plot.confusion_matrix.ConfusionMatrixDisplay at 0x186fb95e9a0>"
      ]
     },
     "execution_count": 67,
     "metadata": {},
     "output_type": "execute_result"
    },
    {
     "data": {
      "image/png": "[encoded data removed]",
      "text/plain": [
       "<Figure size 432x288 with 2 Axes>"
      ]
     },
     "metadata": {
      "needs_background": "light"
     },
     "output_type": "display_data"
    }
   ],
   "source": [
    "ConfusionMatrixDisplay(confusion_matrix(ytest,pred_gini)).plot(cmap='Blues_r')"
   ]
  },
  {
   "cell_type": "code",
   "execution_count": null,
   "id": "0d705bca",
   "metadata": {},
   "outputs": [],
   "source": []
  },
  {
   "cell_type": "code",
   "execution_count": null,
   "id": "93694242",
   "metadata": {},
   "outputs": [],
   "source": []
  },
  {
   "cell_type": "markdown",
   "id": "ba11aa2e",
   "metadata": {},
   "source": [
    "# KNN"
   ]
  },
  {
   "cell_type": "code",
   "execution_count": 68,
   "id": "8e1fda83",
   "metadata": {},
   "outputs": [],
   "source": [
    "from sklearn.neighbors import KNeighborsClassifier"
   ]
  },
  {
   "cell_type": "code",
   "execution_count": 69,
   "id": "2b577274",
   "metadata": {},
   "outputs": [
    {
     "data": {
      "text/plain": [
       "KNeighborsClassifier(n_neighbors=3)"
      ]
     },
     "execution_count": 69,
     "metadata": {},
     "output_type": "execute_result"
    }
   ],
   "source": [
    "KNN = KNeighborsClassifier(n_neighbors=3)\n",
    "KNN.fit(Xtrain,ytrain)"
   ]
  },
  {
   "cell_type": "code",
   "execution_count": 70,
   "id": "08234978",
   "metadata": {},
   "outputs": [],
   "source": [
    "pred_knn = KNN.predict(Xtest)\n",
    "# pred_knn"
   ]
  },
  {
   "cell_type": "code",
   "execution_count": 71,
   "id": "a345a256",
   "metadata": {},
   "outputs": [
    {
     "name": "stdout",
     "output_type": "stream",
     "text": [
      "              precision    recall  f1-score   support\n",
      "\n",
      "           1       0.85      0.55      0.67        83\n",
      "           2       0.41      0.76      0.54        34\n",
      "\n",
      "    accuracy                           0.62       117\n",
      "   macro avg       0.63      0.66      0.60       117\n",
      "weighted avg       0.72      0.62      0.63       117\n",
      "\n",
      "[[46 37]\n",
      " [ 8 26]]\n",
      "61.53846153846154\n"
     ]
    }
   ],
   "source": [
    "print(classification_report(ytest,pred_knn))\n",
    "print(confusion_matrix(ytest,pred_knn))\n",
    "print(accuracy_score(ytest,pred_knn)*100)"
   ]
  },
  {
   "cell_type": "code",
   "execution_count": 72,
   "id": "aedda115",
   "metadata": {},
   "outputs": [
    {
     "data": {
      "text/plain": [
       "<sklearn.metrics._plot.confusion_matrix.ConfusionMatrixDisplay at 0x186fb9a75b0>"
      ]
     },
     "execution_count": 72,
     "metadata": {},
     "output_type": "execute_result"
    },
    {
     "data": {
      "image/png": "[encoded data removed]",
      "text/plain": [
       "<Figure size 432x288 with 2 Axes>"
      ]
     },
     "metadata": {
      "needs_background": "light"
     },
     "output_type": "display_data"
    }
   ],
   "source": [
    "ConfusionMatrixDisplay(confusion_matrix(ytest,pred_knn)).plot(cmap='Blues_r')"
   ]
  },
  {
   "cell_type": "code",
   "execution_count": null,
   "id": "979ab136",
   "metadata": {},
   "outputs": [],
   "source": []
  },
  {
   "cell_type": "code",
   "execution_count": null,
   "id": "e7ae400e",
   "metadata": {},
   "outputs": [],
   "source": []
  },
  {
   "cell_type": "markdown",
   "id": "e2fa8e48",
   "metadata": {},
   "source": [
    "# SVM"
   ]
  },
  {
   "cell_type": "code",
   "execution_count": 73,
   "id": "c252151a",
   "metadata": {},
   "outputs": [],
   "source": [
    "from sklearn import svm"
   ]
  },
  {
   "cell_type": "code",
   "execution_count": 74,
   "id": "2eb8a7dc",
   "metadata": {},
   "outputs": [
    {
     "data": {
      "text/plain": [
       "SVC()"
      ]
     },
     "execution_count": 74,
     "metadata": {},
     "output_type": "execute_result"
    }
   ],
   "source": [
    "SVM = svm.SVC()\n",
    "SVM.fit(Xtrain,ytrain)"
   ]
  },
  {
   "cell_type": "code",
   "execution_count": 75,
   "id": "db8dd03c",
   "metadata": {},
   "outputs": [
    {
     "data": {
      "text/plain": [
       "array([1, 2, 2, 2, 2, 2, 1, 1, 1, 1, 2, 1, 2, 1, 1, 1, 1, 2, 2, 2, 1, 1,\n",
       "       1, 1, 1, 2, 2, 2, 1, 1, 1, 2, 1, 2, 1, 1, 1, 1, 1, 1, 1, 1, 2, 1,\n",
       "       1, 2, 2, 2, 1, 1, 2, 2, 1, 1, 1, 2, 1, 2, 1, 1, 1, 1, 1, 1, 2, 1,\n",
       "       1, 1, 2, 1, 2, 1, 1, 1, 1, 1, 1, 1, 1, 1, 1, 1, 2, 1, 2, 1, 1, 1,\n",
       "       1, 1, 1, 1, 1, 2, 1, 1, 1, 1, 1, 2, 1, 1, 1, 1, 2, 1, 1, 2, 2, 2,\n",
       "       1, 2, 2, 1, 2, 2, 1], dtype=int64)"
      ]
     },
     "execution_count": 75,
     "metadata": {},
     "output_type": "execute_result"
    }
   ],
   "source": [
    "pred_svm = SVM.predict(Xtest)\n",
    "pred_svm"
   ]
  },
  {
   "cell_type": "code",
   "execution_count": 76,
   "id": "e93c534a",
   "metadata": {},
   "outputs": [
    {
     "name": "stdout",
     "output_type": "stream",
     "text": [
      "              precision    recall  f1-score   support\n",
      "\n",
      "           1       0.78      0.75      0.77        83\n",
      "           2       0.45      0.50      0.47        34\n",
      "\n",
      "    accuracy                           0.68       117\n",
      "   macro avg       0.62      0.62      0.62       117\n",
      "weighted avg       0.69      0.68      0.68       117\n",
      "\n",
      "[[62 21]\n",
      " [17 17]]\n",
      "67.52136752136752\n"
     ]
    }
   ],
   "source": [
    "print(classification_report(ytest,pred_svm))\n",
    "print(confusion_matrix(ytest,pred_svm))\n",
    "print(accuracy_score(ytest,pred_svm)*100)"
   ]
  },
  {
   "cell_type": "code",
   "execution_count": 77,
   "id": "9a6b9c2a",
   "metadata": {},
   "outputs": [],
   "source": [
    "predictions = [pred_ent,pred_gini,pred_knn,pred_svm]\n",
    "\n"
   ]
  },
  {
   "cell_type": "code",
   "execution_count": 78,
   "id": "89b25627",
   "metadata": {},
   "outputs": [
    {
     "name": "stdout",
     "output_type": "stream",
     "text": [
      "[64.96, 59.83, 61.54, 67.52]\n",
      "[68.67, 65.06, 55.42, 74.7]\n",
      "[79.17, 75.0, 85.19, 78.48]\n",
      "[73.55, 69.68, 67.15, 76.54]\n"
     ]
    }
   ],
   "source": [
    "acc_score=[]\n",
    "recall = []\n",
    "precision = []\n",
    "f1 = []\n",
    "for i in predictions:\n",
    "    acc_score.append(round(accuracy_score(ytest,i)*100,2))\n",
    "    recall.append(round(recall_score(ytest,i)*100,2))\n",
    "    precision.append(round(precision_score(ytest,i)*100,2))\n",
    "    f1.append(round(f1_score(ytest,i)*100,2))\n",
    "print(acc_score)\n",
    "print(recall)\n",
    "print(precision)\n",
    "print(f1)"
   ]
  },
  {
   "cell_type": "code",
   "execution_count": null,
   "id": "6c70283d",
   "metadata": {},
   "outputs": [],
   "source": [
    "table"
   ]
  },
  {
   "cell_type": "code",
   "execution_count": null,
   "id": "0d4e6bc6",
   "metadata": {},
   "outputs": [],
   "source": [
    "table.loc['Accuracy']=acc_score\n",
    "table.loc['Recall']=recall\n",
    "table.loc['Precision']=precision\n",
    "table.loc['F1_score']=f1\n",
    "\n",
    "                    \n",
    "\n",
    "table"
   ]
  },
  {
   "cell_type": "code",
   "execution_count": null,
   "id": "7e49752a",
   "metadata": {},
   "outputs": [],
   "source": []
  }
 ],
 "metadata": {
  "kernelspec": {
   "display_name": "Python 3 (ipykernel)",
   "language": "python",
   "name": "python3"
  },
  "language_info": {
   "codemirror_mode": {
    "name": "ipython",
    "version": 3
   },
   "file_extension": ".py",
   "mimetype": "text/x-python",
   "name": "python",
   "nbconvert_exporter": "python",
   "pygments_lexer": "ipython3",
   "version": "3.9.12"
  }
 },
 "nbformat": 4,
 "nbformat_minor": 5
}
